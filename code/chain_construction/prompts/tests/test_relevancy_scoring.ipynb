{
 "cells": [
  {
   "cell_type": "code",
   "execution_count": 1,
   "metadata": {},
   "outputs": [],
   "source": [
    "import json\n",
    "import sys\n",
    "sys.path.append('/srv/scratch1/rosni/scigen/')\n",
    "from ground_truth_path.prompts.relevancy_scoring_prompt_003 import relevancy_scoring_prompt\n",
    "from ground_truth_path.prompts.tests.test_examples import few_shot_prompt_data, source_paper_data, year_data, papers_data\n",
    "from ground_truth_path.utils import clean_gpt_output, evaluate_papers_with_llama, load_llama_model\n",
    "import torch\n",
    "import numpy as np\n",
    "import random\n",
    "torch.manual_seed(42)\n",
    "np.random.seed(42)\n",
    "random.seed(42)\n",
    "if torch.cuda.is_available():\n",
    "    torch.cuda.manual_seed_all(42)"
   ]
  },
  {
   "cell_type": "code",
   "execution_count": 2,
   "metadata": {},
   "outputs": [
    {
     "data": {
      "application/vnd.jupyter.widget-view+json": {
       "model_id": "182673a911c14c0d9cb33ce38a5a9ac6",
       "version_major": 2,
       "version_minor": 0
      },
      "text/plain": [
       "Loading checkpoint shards:   0%|          | 0/30 [00:00<?, ?it/s]"
      ]
     },
     "metadata": {},
     "output_type": "display_data"
    }
   ],
   "source": [
    "llama_pipeline = load_llama_model()"
   ]
  },
  {
   "cell_type": "code",
   "execution_count": 3,
   "metadata": {},
   "outputs": [],
   "source": [
    "def relevancy_prompt(source_paper, few_shot_prompt, year, paper_list):\n",
    "    # update this in the utils.py file (after testing and if changed)\n",
    "\n",
    "    prompt_template = relevancy_scoring_prompt()\n",
    "    prompt = prompt_template.format(\n",
    "        source_title=source_paper['title'],\n",
    "        source_abstract=source_paper['abstract'],\n",
    "        year=year,\n",
    "        paper_list=paper_list\n",
    "    )\n",
    "    return prompt"
   ]
  },
  {
   "cell_type": "code",
   "execution_count": 4,
   "metadata": {},
   "outputs": [
    {
     "name": "stdout",
     "output_type": "stream",
     "text": [
      "\n",
      "    Hypotheses are frequently the starting point when undertaking the empirical portion of the scientific process. They state something that the scientific process will attempt to evaluate, corroborate, verify, or falsify. Their purpose is to guide the types of data we collect, analyses we conduct, and inferences we would like to make. You are a scientist. Your job is to construct a novel and impactful hypothesis by navigating the literature.\n",
      "\n",
      "    We have retrieved a knowledge graph of literature for you. You are given a source paper and a list of papers that followed\n",
      "    from the source paper.\n",
      "    You are evaluating the relevance of the following papers to the source paper. Starting from the source paper, you will analyze the following papers in this way. For every paper in the list, you output 0, 1, 2, 3:\n",
      "    \n",
      "    0: The hypothesis in this paper has no connection to the source paper's hypothesis or it addresses a related topic independently. OR the findings or this paper is a review paper (e.g., Cochrane reviews, systematic reviews). Review papers often include terms like \"Review\" or \"Meta-Analysis,\" summarize existing literature, and lack novel hypotheses or findings. \n",
      "    1: The key hypothesis in this paper was directly inspired by the source paper, but its findings do not critically depend on or contradict the source paper. Topical overlap alone does not qualify.\n",
      "    2: The key hypotheses in this paper directly contradict or challenge the source paper's findings.\n",
      "    3: The key hypothesis in this paper is strongly dependent on the findings of the source paper. In other words the source papers contain some sub-hypotheses for the current hypothesis.\n",
      "\n",
      "    Explain your answer concisely why this relevance label was selected.\n",
      "\n",
      "    If there are 5 papers, your answer should contain an enumerated list of length 5. \n",
      "    \n",
      "    Finally, identify the top-3 relevant papers from the list based on the highest relevance score (3 > 2 > 1 > 0). If there are fewer than 3 most relevant papers (with scores 3/2/1), include only the available ones. If no relevant papers are found, leave the \"top3_relevant_papers\" section empty.\n",
      "\n",
      "\n",
      "    Source Paper:\n",
      "    Title: Long-term effects of indomethacin prophylaxis in extremely-low-birth-weight infants.\n",
      "    Abstract: BACKGROUND\n",
      "The prophylactic administration of indomethacin reduces the frequency of patent ductus arteriosus and severe intraventricular hemorrhage in very-low-birth-weight infants (those with birth weights below 1500 g). Whether prophylaxis with indomethacin confers any long-term benefits that outweigh the risks of drug-induced reductions in renal, intestinal, and cerebral blood flow is not known.\n",
      "\n",
      "\n",
      "METHODS\n",
      "Soon after they were born, we randomly assigned 1202 infants with birth weights of 500 to 999 g (extremely low birth weight) to receive either indomethacin (0.1 mg per kilogram of body weight) or placebo intravenously once daily for three days. The primary outcome was a composite of death, cerebral palsy, cognitive delay, deafness, and blindness at a corrected age of 18 months. Secondary long-term outcomes were hydrocephalus necessitating the placement of a shunt, seizure disorder, and microcephaly within the same time frame. Secondary short-term outcomes were patent ductus arteriosus, pulmonary hemorrhage, chronic lung disease, ultrasonographic evidence of intracranial abnormalities, necrotizing enterocolitis, and retinopathy.\n",
      "\n",
      "\n",
      "RESULTS\n",
      "Of the 574 infants with data on the primary outcome who were assigned to prophylaxis with indomethacin, 271 (47 percent) died or survived with impairments, as compared with 261 of the 569 infants (46 percent) assigned to placebo (odds ratio, 1.1; 95 percent confidence interval, 0.8 to 1.4; P=0.61). Indomethacin reduced the incidence of patent ductus arteriosus (24 percent vs. 50 percent in the placebo group; odds ratio, 0.3; P<0.001) and of severe periventricular and intraventricular hemorrhage (9 percent vs. 13 percent in the placebo group; odds ratio, 0.6; P=0.02). No other outcomes were altered by the prophylactic administration of indomethacin.\n",
      "\n",
      "\n",
      "CONCLUSIONS\n",
      "In extremely-low-birth-weight infants, prophylaxis with indomethacin does not improve the rate of survival without neurosensory impairment at 18 months, despite the fact that it reduces the frequency of patent ductus arteriosus and severe periventricular and intraventricular hemorrhage.\n",
      "\n",
      "    Papers from the Year 2013:\n",
      "    \n",
      "       \n",
      "\n",
      "1. Title: Perfusion Index as a Diagnostic Tool for Patent Ductus Arteriosus in Preterm Infants Abstract: Background: Perfusion index (PI) could reflect peripheral flow. Preterm infants with hemodynamically significant patent ductus arteriosus (hsPDA) will have left-to-right shunt across PDA causing less blood flow to the lower legs. Objective: To evaluate pre- and postductal PI differences (ΔPI) in hsPDA. Methods: Preterm infants with gestational age <34 weeks were assessed for ΔPI on days 1, 3, and 7 of life with simultaneous echocardiography. Based on echocardiography, each infant was categorized into hsPDA, non-hsPDA, and no PDA. Results: Thirty infants (16 males), median age 31 weeks (interquartile range, IQR, 29-32) and weight 1,490 g (IQR 1,100-1,670) were enrolled. On days 1 and 3 of life, the ΔPI of infants with hsPDA (1.57%, IQR 0.28-2.32, n = 14, and 1.32%, IQR 0.28-1.83, n = 10) were significantly higher than those without hsPDA (0.14%, IQR -0.03 to 0.30, n = 16, and 0.08%, IQR -0.07 to 0.26, n = 20), p = 0.009 and 0.005, respectively. At all time points (days 1, 3, and 7 of life, n = 84), ΔPI >1.05% had sensitivity, specificity, positive predictive value, and negative predictive value of 66.7, 100, 100, and 86.4%, respectively, to detect hsPDA. Conclusion: The pre- and postductal PI differences were significantly related to the hemodynamic changes of PDA and might be useful to detect hemodynamically significant PDA.\n",
      "\n",
      "2. Title: Reduction of Severe Intraventricular Hemorrhage in Preterm Infants: A Quality Improvement Project. Abstract: OBJECTIVES\n",
      "The aim of this quality improvement project was to reduce the rate of severe intraventricular hemorrhage (sIVH) by 50% within 3 years for extremely preterm infants born at a children's teaching hospital.\n",
      "\n",
      "\n",
      "METHODS\n",
      "A multidisciplinary team developed key drivers for the development of intraventricular hemorrhage in preterm infants. Targeted interventions included the development of potentially better practice guidelines, promoting early noninvasive ventilation, consistent use of rescue antenatal betamethasone, and risk-based indomethacin prophylaxis. The outcome measure was the rate of sIVH. Process measures included the rate of intubation within 24 hours and receipt of rescue betamethasone and risk-based indomethacin prophylaxis. Common markers of morbidity were balancing measures. Data were collected from a quarterly chart review and analyzed with statistical process control charts. The preintervention period was from January 2012 to March 2016, implementation period was from April 2016 to December 2018, and sustainment period was through June 2020.\n",
      "\n",
      "\n",
      "RESULTS\n",
      "During the study period, there were 268 inborn neonates born at <28 weeks' gestation or <1000 g (127 preintervention and 141 postintervention). The rate of sIVH decreased from 14% to 1.2%, with sustained improvement over 2 and a half years. Mortality also decreased by 50% during the same time period. This was associated with adherence to process measures and no change in balancing measures.\n",
      "\n",
      "\n",
      "CONCLUSIONS\n",
      "A multipronged quality improvement approach to intraventricular hemorrhage prevention, including evidence-based practice guidelines, consistent receipt of rescue betamethasone and indomethacin prophylaxis, and decreasing early intubation was associated with a sustained reduction in sIVH in extremely preterm infants.\n",
      "\n",
      "3. Title: Differential effects of ibuprofen and indomethacin on cerebral oxygen kinetics in the very preterm baby Abstract: Background Ibuprofen is preferred to indomethacin for treatment of a significant patent ductus arteriosus (PDA) in preterm babies despite indomethacin being associated with a lower risk of intraventricular haemorrhage. This difference is thought to relate to the discrepant effects of each medication on cerebral oxygen kinetics yet the effect of ibuprofen on cerebral perfusion is uncertain. Methods Forty-eight babies < 30 weeks with a significant PDA, defined by echocardiography, were randomly assigned to either indomethacin or ibuprofen (n = 24 per group) and stratified by gestation and chronologic age. Cerebral blood flow [total internal carotid blood flow (TICF)] and oxygen physiology [oxygen delivery (modCerbDO2) and consumption (modCerbVO2)] were measured using cranial Doppler ultrasound and near-infrared spectroscopy, and cerebral oxygen extraction (cFTOE) calculated, immediately before and following administration. Temporal and treatment related changes were analysed. Results A fixed effect of time was seen for TICF (p = 0.03) and therefore modCerbDO2 (p = 0.046) and cFTOE (p = 0.04) for indomethacin alone. In the indomethacin group, TICF and modCerbDO2 fell from baseline to 5 and 30 min respectively (TICF p < 0.01, cDO2 p = 0.01) before increasing from 5 min to 24 h (p < 0.01) and 30 min and 24 h (p < 0.01) timepoints. cFTOE peaked at 30 min (p = 0.02) returning to baseline at 24 h. There was a parallel increase in arterial lactate. Conclusion Indomethacin significantly reduces cerebral blood flow soon after administration, resulting in a parallel increase in oxygen extraction and arterial lactate. This implies that the balance of oxygen kinetics at the time of treatment may be critical in very preterm babies with significant PDA.\n",
      "\n",
      "\n",
      "       \n",
      "\n",
      "    Output a JSON object in the following format:\n",
      "    ```json\n",
      "    {\n",
      "        \"paper_list\": {\n",
      "            \"1.Title of the First Paper\": {\n",
      "                \"explanation\": \"Explanation of the connection to the source paper.\",\n",
      "                \"relevance\": 0 or 1 or 2 or 3\n",
      "            },\n",
      "            \"2.Title of the Second Paper\": {\n",
      "                \"explanation\": \"Explanation of the connection to the source paper.\",\n",
      "                \"relevance\": 0 or 1 or 2 or 3\n",
      "            },\n",
      "            ...\n",
      "        },\n",
      "        \"top3_relevant_papers\": {\n",
      "            \"1.title of the first relevant paper\": {\n",
      "                \"explanation\": \"Explanation of the connection to the source paper.\",\n",
      "                \"relevance\": 0 or 1 or 2 or 3\n",
      "            },\n",
      "            \"2.Title of the second relevant paper\": {\n",
      "                \"explanation\": \"Explanation of the connection to the source paper.\",\n",
      "                \"relevance\": 0 or 1 or 2 or 3\n",
      "            },\n",
      "            \"3.Title of the third relevant paper\": {\n",
      "                \"explanation\": \"Explanation of the connection to the source paper.\",\n",
      "                \"relevance\": 0 or 1 or 2 or 3\n",
      "            }\n",
      "    }\n",
      "    ```\n",
      "    \n"
     ]
    }
   ],
   "source": [
    "source_paper = source_paper_data()\n",
    "few_shot_prompt = few_shot_prompt_data()\n",
    "year = year_data()\n",
    "papers = papers_data()\n",
    "\n",
    "# Generate the prompt\n",
    "prompt = relevancy_prompt(source_paper, few_shot_prompt, year, papers)\n",
    "print(prompt)"
   ]
  },
  {
   "cell_type": "code",
   "execution_count": 10,
   "metadata": {},
   "outputs": [
    {
     "name": "stderr",
     "output_type": "stream",
     "text": [
      "Setting `pad_token_id` to `eos_token_id`:128001 for open-end generation.\n"
     ]
    }
   ],
   "source": [
    "# Evaluate the prompt\n",
    "response = evaluate_papers_with_llama(prompt, llama_pipeline)\n",
    "\n",
    "for item in response:\n",
    "    if item['role'] == 'assistant':\n",
    "        try:\n",
    "            llama_output = clean_gpt_output(item['content'])\n",
    "        except json.JSONDecodeError as e:\n",
    "            print(f\"Error: {e}\")\n",
    "            \n"
   ]
  },
  {
   "cell_type": "code",
   "execution_count": 11,
   "metadata": {},
   "outputs": [
    {
     "data": {
      "text/plain": [
       "{'paper_list': {'1. Perfusion Index as a Diagnostic Tool for Patent Ductus Arteriosus in Preterm Infants': {'explanation': 'The paper explores a diagnostic tool for patent ductus arteriosus (PDA), which is a condition that the source paper found was reduced by indomethacin prophylaxis. However, the paper does not directly build upon or challenge the findings of the source paper.',\n",
       "   'relevance': 1},\n",
       "  '2. Reduction of Severe Intraventricular Hemorrhage in Preterm Infants: A Quality Improvement Project': {'explanation': 'This paper discusses the reduction of severe intraventricular hemorrhage (sIVH) in preterm infants, which is a condition that the source paper found was reduced by indomethacin prophylaxis. The paper uses risk-based indomethacin prophylaxis as one of its targeted interventions, making it relevant to the source paper.',\n",
       "   'relevance': 1},\n",
       "  '3. Differential effects of ibuprofen and indomethacin on cerebral oxygen kinetics in the very preterm baby': {'explanation': \"This paper directly compares the effects of indomethacin and ibuprofen on cerebral oxygen kinetics in preterm babies. The source paper found that indomethacin reduced the frequency of severe periventricular and intraventricular hemorrhage, making this paper's exploration of indomethacin's effects on cerebral oxygen kinetics relevant to the source paper.\",\n",
       "   'relevance': 3}},\n",
       " 'top3_relevant_papers': {'1. Differential effects of ibuprofen and indomethacin on cerebral oxygen kinetics in the very preterm baby': {'explanation': \"This paper directly compares the effects of indomethacin and ibuprofen on cerebral oxygen kinetics in preterm babies. The source paper found that indomethacin reduced the frequency of severe periventricular and intraventricular hemorrhage, making this paper's exploration of indomethacin's effects on cerebral oxygen kinetics relevant to the source paper.\",\n",
       "   'relevance': 3},\n",
       "  '2. Reduction of Severe Intraventricular Hemorrhage in Preterm Infants: A Quality Improvement Project': {'explanation': 'This paper discusses the reduction of severe intraventricular hemorrhage (sIVH) in preterm infants, which is a condition that the source paper found was reduced by indomethacin prophylaxis. The paper uses risk-based indomethacin prophylaxis as one of its targeted interventions, making it relevant to the source paper.',\n",
       "   'relevance': 1},\n",
       "  '3. Perfusion Index as a Diagnostic Tool for Patent Ductus Arteriosus in Preterm Infants': {'explanation': 'The paper explores a diagnostic tool for patent ductus arteriosus (PDA), which is a condition that the source paper found was reduced by indomethacin prophylaxis. However, the paper does not directly build upon or challenge the findings of the source paper.',\n",
       "   'relevance': 1}}}"
      ]
     },
     "execution_count": 11,
     "metadata": {},
     "output_type": "execute_result"
    }
   ],
   "source": [
    "llama_output"
   ]
  },
  {
   "cell_type": "code",
   "execution_count": 21,
   "metadata": {},
   "outputs": [],
   "source": [
    "{'paper_list': {'1. Perfusion Index as a Diagnostic Tool for Patent Ductus Arteriosus in Preterm Infants': {'explanation': 'This paper investigates a diagnostic tool for patent ductus arteriosus, which is a condition that the source paper found to be reduced by indomethacin prophylaxis. However, the hypothesis in this paper is not directly inspired by or dependent on the findings of the source paper, as it focuses on a different aspect of the condition.', 'relevance': 0}, '2. Reduction of Severe Intraventricular Hemorrhage in Preterm Infants: A Quality Improvement Project': {'explanation': 'This paper aims to reduce severe intraventricular hemorrhage in preterm infants, a condition that the source paper found to be reduced by indomethacin prophylaxis. The hypothesis in this paper is partially dependent on the findings of the source paper, as it includes indomethacin prophylaxis as one of the targeted interventions.', 'relevance': 2}, '3. Differential effects of ibuprofen and indomethacin on cerebral oxygen kinetics in the very preterm baby': {'explanation': \"This paper compares the effects of ibuprofen and indomethacin on cerebral oxygen kinetics in preterm babies. The hypothesis in this paper is partially dependent on the findings of the source paper, as it builds on the knowledge of indomethacin's effects on cerebral blood flow and oxygen delivery.\", 'relevance': 2}}, 'top3_relevant_papers': {'1. Reduction of Severe Intraventricular Hemorrhage in Preterm Infants: A Quality Improvement Project': {'explanation': 'This paper aims to reduce severe intraventricular hemorrhage in preterm infants, a condition that the source paper found to be reduced by indomethacin prophylaxis. The hypothesis in this paper is partially dependent on the findings of the source paper, as it includes indomethacin prophylaxis as one of the targeted interventions.', 'relevance': 2}, '2. Differential effects of ibuprofen and indomethacin on cerebral oxygen kinetics in the very preterm baby': {'explanation': \"This paper compares the effects of ibuprofen and indomethacin on cerebral oxygen kinetics in preterm babies. The hypothesis in this paper is partially dependent on the findings of the source paper, as it builds on the knowledge of indomethacin's effects on cerebral blood flow and oxygen delivery.\", 'relevance': 2}}}"
   ]
  },
  {
   "cell_type": "code",
   "execution_count": null,
   "metadata": {},
   "outputs": [],
   "source": []
  },
  {
   "cell_type": "markdown",
   "metadata": {},
   "source": [
    "### BMR model testing"
   ]
  },
  {
   "cell_type": "code",
   "execution_count": 1,
   "metadata": {},
   "outputs": [],
   "source": [
    "intial_source_abstract = \"We admitted 48 preterm neonates (600 to 1250 gm birth weight, normal 6-hour echoencephalograms) to a randomized prospective indomethacin or placebo trial for the prevention of neonatal intraventricular hemorrhage. Beginning at 6 postnatal hours, indomethacin or placebo was administered intravenously every 12 hours for a total of five doses. Cardiac ultrasound studies to assess the status of the ductus arteriosus were performed at 6 postnatal hours and on day 5. Urinary output, serum electrolytes, and renal and clotting functions were monitored. No differences in birth weight, gestational age, Apgar scores, or ventilatory needs were noted between the two groups. Six infants given indomethacin had intraventricular hemorrhage, compared to 14 control infants (P = 0.02). The indomethacin-treated group had significant decreases in serum prostaglandin values 30 hours after the initiation of therapy. The overall incidence of patent ductus arteriosus was 82% at 6 postnatal hours; 84% of the indomethacin-treated infants experienced closure of the ductus, compared to 60% of the placebo-treated patients. Closure of the ductus was not related to incidence of intraventricular hemorrhage. We speculate that indomethacin may provide some protection against neonatal intraventricular hemorrhage by acting on the cerebral microvasculature.\"\n",
    "\n",
    "# Each query must come with a one-sentence instruction that describes the task\n",
    "task = 'Given a scientific abstract, retrieve documents that support or refute the claims from this abstract'\n",
    "\n",
    "# Tokenize and encode inputs\n",
    "source_abstract = \"BACKGROUND\\nThe prophylactic administration of indomethacin reduces the frequency of patent ductus arteriosus and severe intraventricular hemorrhage in very-low-birth-weight infants (those with birth weights below 1500 g). Whether prophylaxis with indomethacin confers any long-term benefits that outweigh the risks of drug-induced reductions in renal, intestinal, and cerebral blood flow is not known.\\n\\n\\nMETHODS\\nSoon after they were born, we randomly assigned 1202 infants with birth weights of 500 to 999 g (extremely low birth weight) to receive either indomethacin (0.1 mg per kilogram of body weight) or placebo intravenously once daily for three days. The primary outcome was a composite of death, cerebral palsy, cognitive delay, deafness, and blindness at a corrected age of 18 months. Secondary long-term outcomes were hydrocephalus necessitating the placement of a shunt, seizure disorder, and microcephaly within the same time frame. Secondary short-term outcomes were patent ductus arteriosus, pulmonary hemorrhage, chronic lung disease, ultrasonographic evidence of intracranial abnormalities, necrotizing enterocolitis, and retinopathy.\\n\\n\\nRESULTS\\nOf the 574 infants with data on the primary outcome who were assigned to prophylaxis with indomethacin, 271 (47 percent) died or survived with impairments, as compared with 261 of the 569 infants (46 percent) assigned to placebo (odds ratio, 1.1; 95 percent confidence interval, 0.8 to 1.4; P=0.61). Indomethacin reduced the incidence of patent ductus arteriosus (24 percent vs. 50 percent in the placebo group; odds ratio, 0.3; P<0.001) and of severe periventricular and intraventricular hemorrhage (9 percent vs. 13 percent in the placebo group; odds ratio, 0.6; P=0.02). No other outcomes were altered by the prophylactic administration of indomethacin.\\n\\n\\nCONCLUSIONS\\nIn extremely-low-birth-weight infants, prophylaxis with indomethacin does not improve the rate of survival without neurosensory impairment at 18 months, despite the fact that it reduces the frequency of patent ductus arteriosus and severe periventricular and intraventricular hemorrhage.\"\n",
    "candidate_documents = [\n",
    "    \"Title: Perfusion Index as a Diagnostic Tool for Patent Ductus Arteriosus in Preterm Infants Abstract: Background: Perfusion index (PI) could reflect peripheral flow. Preterm infants with hemodynamically significant patent ductus arteriosus (hsPDA) will have left-to-right shunt across PDA causing less blood flow to the lower legs. Objective: To evaluate pre- and postductal PI differences (ΔPI) in hsPDA. Methods: Preterm infants with gestational age <34 weeks were assessed for ΔPI on days 1, 3, and 7 of life with simultaneous echocardiography. Based on echocardiography, each infant was categorized into hsPDA, non-hsPDA, and no PDA. Results: Thirty infants (16 males), median age 31 weeks (interquartile range, IQR, 29-32) and weight 1,490 g (IQR 1,100-1,670) were enrolled. On days 1 and 3 of life, the ΔPI of infants with hsPDA (1.57%, IQR 0.28-2.32, n = 14, and 1.32%, IQR 0.28-1.83, n = 10) were significantly higher than those without hsPDA (0.14%, IQR -0.03 to 0.30, n = 16, and 0.08%, IQR -0.07 to 0.26, n = 20), p = 0.009 and 0.005, respectively. At all time points (days 1, 3, and 7 of life, n = 84), ΔPI >1.05% had sensitivity, specificity, positive predictive value, and negative predictive value of 66.7, 100, 100, and 86.4%, respectively, to detect hsPDA. Conclusion: The pre- and postductal PI differences were significantly related to the hemodynamic changes of PDA and might be useful to detect hemodynamically significant PDA.\",\n",
    "    \"Title: Reduction of Severe Intraventricular Hemorrhage in Preterm Infants: A Quality Improvement Project. Abstract: OBJECTIVES\\nThe aim of this quality improvement project was to reduce the rate of severe intraventricular hemorrhage (sIVH) by 50% within 3 years for extremely preterm infants born at a children\\'s teaching hospital.\\n\\n\\nMETHODS\\nA multidisciplinary team developed key drivers for the development of intraventricular hemorrhage in preterm infants. Targeted interventions included the development of potentially better practice guidelines, promoting early noninvasive ventilation, consistent use of rescue antenatal betamethasone, and risk-based indomethacin prophylaxis. The outcome measure was the rate of sIVH. Process measures included the rate of intubation within 24 hours and receipt of rescue betamethasone and risk-based indomethacin prophylaxis. Common markers of morbidity were balancing measures. Data were collected from a quarterly chart review and analyzed with statistical process control charts. The preintervention period was from January 2012 to March 2016, implementation period was from April 2016 to December 2018, and sustainment period was through June 2020.\\n\\n\\nRESULTS\\nDuring the study period, there were 268 inborn neonates born at <28 weeks\\' gestation or <1000 g (127 preintervention and 141 postintervention). The rate of sIVH decreased from 14% to 1.2%, with sustained improvement over 2 and a half years. Mortality also decreased by 50% during the same time period. This was associated with adherence to process measures and no change in balancing measures.\\n\\n\\nCONCLUSIONS\\nA multipronged quality improvement approach to intraventricular hemorrhage prevention, including evidence-based practice guidelines, consistent receipt of rescue betamethasone and indomethacin prophylaxis, and decreasing early intubation was associated with a sustained reduction in sIVH in extremely preterm infants.\",\n",
    "    \"Title: Differential effects of ibuprofen and indomethacin on cerebral oxygen kinetics in the very preterm baby Abstract: Background Ibuprofen is preferred to indomethacin for treatment of a significant patent ductus arteriosus (PDA) in preterm babies despite indomethacin being associated with a lower risk of intraventricular haemorrhage. This difference is thought to relate to the discrepant effects of each medication on cerebral oxygen kinetics yet the effect of ibuprofen on cerebral perfusion is uncertain. Methods Forty-eight babies < 30 weeks with a significant PDA, defined by echocardiography, were randomly assigned to either indomethacin or ibuprofen (n = 24 per group) and stratified by gestation and chronologic age. Cerebral blood flow [total internal carotid blood flow (TICF)] and oxygen physiology [oxygen delivery (modCerbDO2) and consumption (modCerbVO2)] were measured using cranial Doppler ultrasound and near-infrared spectroscopy, and cerebral oxygen extraction (cFTOE) calculated, immediately before and following administration. Temporal and treatment related changes were analysed. Results A fixed effect of time was seen for TICF (p = 0.03) and therefore modCerbDO2 (p = 0.046) and cFTOE (p = 0.04) for indomethacin alone. In the indomethacin group, TICF and modCerbDO2 fell from baseline to 5 and 30 min respectively (TICF p < 0.01, cDO2 p = 0.01) before increasing from 5 min to 24 h (p < 0.01) and 30 min and 24 h (p < 0.01) timepoints. cFTOE peaked at 30 min (p = 0.02) returning to baseline at 24 h. There was a parallel increase in arterial lactate. Conclusion Indomethacin significantly reduces cerebral blood flow soon after administration, resulting in a parallel increase in oxygen extraction and arterial lactate. This implies that the balance of oxygen kinetics at the time of treatment may be critical in very preterm babies with significant PDA.\"\n",
    "]\n"
   ]
  },
  {
   "cell_type": "code",
   "execution_count": 6,
   "metadata": {},
   "outputs": [
    {
     "name": "stdout",
     "output_type": "stream",
     "text": [
      "Most relevant document index (weighted): 1\n",
      "Source Similarities: [0.95600104 0.9667444  0.9664413 ]\n",
      "Initial Similarities: [0.9450358  0.963362   0.96016985]\n",
      "Weighted Similarities: [0.95271146 0.9657297  0.9645599 ]\n"
     ]
    }
   ],
   "source": [
    "import os\n",
    "# add gpu support\n",
    "os.environ[\"CUDA_VISIBLE_DEVICES\"] = \"0,1,2,3,4,5,6,7\"\n",
    "import torch\n",
    "from transformers import AutoModel, AutoTokenizer\n",
    "device = torch.device(\"cuda\" if torch.cuda.is_available() else \"cpu\")\n",
    "\n",
    "model_name = \"BMRetriever/BMRetriever-1B\"\n",
    "tokenizer = AutoTokenizer.from_pretrained(model_name)\n",
    "model = AutoModel.from_pretrained(model_name).to(device)\n",
    "\n",
    "from torch.nn.functional import cosine_similarity\n",
    "import torch\n",
    "import torch.nn.functional as F\n",
    "from torch import Tensor\n",
    "\n",
    "def last_token_pool(last_hidden_states: Tensor,\n",
    "                 attention_mask: Tensor) -> Tensor:\n",
    "    last_hidden = last_hidden_states.masked_fill(~attention_mask[..., None].bool(), 0.0)\n",
    "    left_padding = (attention_mask[:, -1].sum() == attention_mask.shape[0])\n",
    "    if left_padding:\n",
    "        embedding = last_hidden[:, -1]\n",
    "    else:\n",
    "        sequence_lengths = attention_mask.sum(dim=1) - 1\n",
    "        batch_size = last_hidden.shape[0]\n",
    "        embedding = last_hidden[torch.arange(batch_size, device=last_hidden.device), sequence_lengths]\n",
    "    return embedding\n",
    "\n",
    "def get_detailed_instruct_query(task_description: str, query: str) -> str:\n",
    "    return f'{task_description}\\nQuery: {query}'\n",
    "\n",
    "def get_detailed_instruct_passage(passage: str) -> str:\n",
    "    return f'Represent this passage\\npassage: {passage}'\n",
    "\n",
    "# Function to compute weighted similarity\n",
    "def compute_weighted_similarity(source_embedding: Tensor, doc_embeddings: Tensor, weights: Tensor) -> Tensor:\n",
    "    similarities = cosine_similarity(source_embedding.unsqueeze(0), doc_embeddings)\n",
    "    weighted_similarities = similarities * weights\n",
    "    return weighted_similarities.sum()\n",
    "\n",
    "\n",
    "# Encode the initial source abstract\n",
    "initial_input = tokenizer(intial_source_abstract, max_length=512, padding=True, truncation=True, return_tensors='pt')\n",
    "initial_input = {key: value.to(device) for key, value in initial_input.items()}  # Move all inputs to GPU(s)\n",
    "initial_embedding = last_token_pool(\n",
    "    model(**initial_input).last_hidden_state, initial_input['attention_mask']\n",
    ")\n",
    "\n",
    "# Tokenize and encode the source abstract\n",
    "source_input = tokenizer(source_abstract, max_length=512, padding=True, truncation=True, return_tensors='pt')\n",
    "source_input = {key: value.to(device) for key, value in source_input.items()}  # Move all inputs to GPU(s)\n",
    "source_embedding = last_token_pool(\n",
    "    model(**source_input).last_hidden_state, source_input['attention_mask']\n",
    ")\n",
    "\n",
    "# Encode the candidate documents\n",
    "doc_embeddings = []\n",
    "for doc in candidate_documents:\n",
    "    doc_input = tokenizer(doc, max_length=512, padding=True, truncation=True, return_tensors='pt')\n",
    "    doc_input = {key: value.to(device) for key, value in doc_input.items()}  # Move all inputs to GPU(s)\n",
    "    doc_embedding = last_token_pool(\n",
    "        model(**doc_input).last_hidden_state, doc_input['attention_mask']\n",
    "    )\n",
    "    doc_embeddings.append(doc_embedding)\n",
    "\n",
    "# Normalize embeddings\n",
    "source_embedding = F.normalize(source_embedding, p=2, dim=-1)\n",
    "initial_embedding = F.normalize(initial_embedding, p=2, dim=-1)\n",
    "doc_embeddings = torch.stack(doc_embeddings, dim=0).squeeze(1).to(device)  # Correct shape and move to device\n",
    "doc_embeddings = F.normalize(doc_embeddings, p=2, dim=-1)  # Normalize\n",
    "\n",
    "# Compute cosine similarities\n",
    "source_similarities = cosine_similarity(source_embedding, doc_embeddings)\n",
    "initial_similarities = cosine_similarity(initial_embedding, doc_embeddings)\n",
    "\n",
    "# Compute weighted similarities\n",
    "w1, w2 = 0.3, 0.7\n",
    "weighted_similarities = (w1 * initial_similarities) + (w2 * source_similarities)\n",
    "\n",
    "# Get the most relevant document\n",
    "best_doc_idx = weighted_similarities.argmax()\n",
    "print(f\"Most relevant document index (weighted): {best_doc_idx}\")\n",
    "\n",
    "# Optional: Print similarity scores for debugging\n",
    "print(\"Source Similarities:\", source_similarities.cpu().detach().numpy())\n",
    "print(\"Initial Similarities:\", initial_similarities.cpu().detach().numpy())\n",
    "print(\"Weighted Similarities:\", weighted_similarities.cpu().detach().numpy())\n"
   ]
  },
  {
   "cell_type": "code",
   "execution_count": null,
   "metadata": {},
   "outputs": [],
   "source": []
  }
 ],
 "metadata": {
  "kernelspec": {
   "display_name": "scigen",
   "language": "python",
   "name": "python3"
  },
  "language_info": {
   "codemirror_mode": {
    "name": "ipython",
    "version": 3
   },
   "file_extension": ".py",
   "mimetype": "text/x-python",
   "name": "python",
   "nbconvert_exporter": "python",
   "pygments_lexer": "ipython3",
   "version": "3.8.18"
  }
 },
 "nbformat": 4,
 "nbformat_minor": 2
}
