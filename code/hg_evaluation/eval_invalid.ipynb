{
 "cells": [
  {
   "cell_type": "code",
   "execution_count": 1,
   "metadata": {},
   "outputs": [
    {
     "name": "stderr",
     "output_type": "stream",
     "text": [
      "Some weights of RobertaModel were not initialized from the model checkpoint at roberta-large and are newly initialized: ['roberta.pooler.dense.bias', 'roberta.pooler.dense.weight']\n",
      "You should probably TRAIN this model on a down-stream task to be able to use it for predictions and inference.\n",
      "/home/user/rosni/miniconda2/envs/scigen/lib/python3.8/site-packages/lightning_fabric/utilities/cloud_io.py:51: FutureWarning: You are using `torch.load` with `weights_only=False` (the current default value), which uses the default pickle module implicitly. It is possible to construct malicious pickle data which will execute arbitrary code during unpickling (See https://github.com/pytorch/pytorch/blob/main/SECURITY.md#untrusted-models for more details). In a future release, the default value for `weights_only` will be flipped to `True`. This limits the functions that could be executed during unpickling. Arbitrary objects will no longer be allowed to be loaded via this mode unless they are explicitly allowlisted by the user via `torch.serialization.add_safe_globals`. We recommend you start setting `weights_only=True` for any use case where you don't have full control of the loaded file. Please open an issue on GitHub for any issues related to this experimental feature.\n",
      "  return torch.load(f, map_location=map_location)  # type: ignore[arg-type]\n",
      "Lightning automatically upgraded your loaded checkpoint from v1.8.0.post1 to v1.9.5. To apply the upgrade to your files permanently, run `python -m pytorch_lightning.utilities.upgrade_checkpoint --file ../backup/AlignScore/AlignScore-large.ckpt`\n",
      "Some weights of RobertaModel were not initialized from the model checkpoint at roberta-large and are newly initialized: ['roberta.pooler.dense.bias', 'roberta.pooler.dense.weight']\n",
      "You should probably TRAIN this model on a down-stream task to be able to use it for predictions and inference.\n",
      "/home/user/rosni/miniconda2/envs/scigen/lib/python3.8/site-packages/pytorch_lightning/core/saving.py:255: UserWarning: Found keys that are not in the model state dict but in the checkpoint: ['base_model.embeddings.position_ids']\n",
      "  rank_zero_warn(\n",
      "Evaluating: 100%|██████████| 1/1 [00:00<00:00,  2.37it/s]\n"
     ]
    }
   ],
   "source": [
    "from alignscore import AlignScore\n",
    "\n",
    "scorer = AlignScore(model='roberta-large', batch_size=32, device='cuda:2', ckpt_path='../backup/AlignScore/AlignScore-large.ckpt', evaluation_mode='nli_sp')\n",
    "score = scorer.score(contexts=['hello world.'], claims=['hello world.'])"
   ]
  },
  {
   "cell_type": "code",
   "execution_count": 2,
   "metadata": {},
   "outputs": [
    {
     "name": "stderr",
     "output_type": "stream",
     "text": [
      "Evaluating: 100%|██████████| 1/1 [00:00<00:00, 17.33it/s]\n",
      "Evaluating: 100%|██████████| 1/1 [00:00<00:00,  7.12it/s]\n",
      "Evaluating: 100%|██████████| 1/1 [00:00<00:00, 27.33it/s]\n",
      "Evaluating: 100%|██████████| 1/1 [00:00<00:00,  3.08it/s]\n",
      "Evaluating: 100%|██████████| 1/1 [00:00<00:00, 24.88it/s]\n",
      "Evaluating: 100%|██████████| 1/1 [00:00<00:00,  3.03it/s]\n",
      "Evaluating: 100%|██████████| 1/1 [00:00<00:00, 24.09it/s]\n",
      "Evaluating: 100%|██████████| 1/1 [00:00<00:00,  9.65it/s]\n",
      "Evaluating: 100%|██████████| 1/1 [00:00<00:00, 14.22it/s]\n",
      "Evaluating: 100%|██████████| 1/1 [00:00<00:00,  2.88it/s]\n",
      "Evaluating: 100%|██████████| 1/1 [00:00<00:00, 19.40it/s]\n",
      "Evaluating: 100%|██████████| 1/1 [00:00<00:00,  2.86it/s]\n",
      "Evaluating: 100%|██████████| 1/1 [00:00<00:00, 14.80it/s]\n",
      "Evaluating: 100%|██████████| 1/1 [00:00<00:00,  5.73it/s]\n",
      "Evaluating: 100%|██████████| 1/1 [00:00<00:00,  5.83it/s]\n",
      "Evaluating: 100%|██████████| 1/1 [00:00<00:00,  1.01it/s]\n",
      "Evaluating: 100%|██████████| 1/1 [00:00<00:00, 28.28it/s]\n",
      "Evaluating: 100%|██████████| 1/1 [00:00<00:00,  5.45it/s]\n",
      "Evaluating: 100%|██████████| 1/1 [00:00<00:00, 13.25it/s]\n",
      "Evaluating: 100%|██████████| 1/1 [00:00<00:00,  3.97it/s]\n",
      "Evaluating: 100%|██████████| 1/1 [00:00<00:00, 25.72it/s]\n",
      "Evaluating: 100%|██████████| 1/1 [00:00<00:00,  4.93it/s]\n",
      "Evaluating: 100%|██████████| 1/1 [00:00<00:00, 18.47it/s]\n",
      "Evaluating: 100%|██████████| 1/1 [00:00<00:00,  4.70it/s]\n",
      "Evaluating: 100%|██████████| 1/1 [00:00<00:00, 13.84it/s]\n",
      "Evaluating: 100%|██████████| 1/1 [00:00<00:00,  1.86it/s]\n",
      "Evaluating: 100%|██████████| 1/1 [00:00<00:00, 12.91it/s]\n",
      "Evaluating: 100%|██████████| 1/1 [00:00<00:00,  9.99it/s]\n",
      "Evaluating: 100%|██████████| 1/1 [00:00<00:00, 12.56it/s]\n",
      "Evaluating: 100%|██████████| 1/1 [00:00<00:00,  3.86it/s]\n",
      "Evaluating: 100%|██████████| 1/1 [00:00<00:00, 13.51it/s]\n",
      "Evaluating: 100%|██████████| 1/1 [00:00<00:00,  2.60it/s]\n",
      "Evaluating: 100%|██████████| 1/1 [00:00<00:00, 32.37it/s]\n",
      "Evaluating: 100%|██████████| 1/1 [00:00<00:00,  5.67it/s]\n",
      "Evaluating: 100%|██████████| 1/1 [00:00<00:00, 19.73it/s]\n",
      "Evaluating: 100%|██████████| 1/1 [00:00<00:00,  5.59it/s]\n",
      "Evaluating: 100%|██████████| 1/1 [00:00<00:00, 13.13it/s]\n",
      "Evaluating: 100%|██████████| 1/1 [00:00<00:00,  4.89it/s]\n",
      "Evaluating: 100%|██████████| 1/1 [00:00<00:00, 29.78it/s]\n",
      "Evaluating: 100%|██████████| 1/1 [00:00<00:00, 11.95it/s]\n",
      "Evaluating: 100%|██████████| 1/1 [00:00<00:00, 15.46it/s]\n",
      "Evaluating: 100%|██████████| 1/1 [00:00<00:00,  6.14it/s]\n",
      "Evaluating: 100%|██████████| 1/1 [00:00<00:00, 31.81it/s]\n",
      "Evaluating: 100%|██████████| 1/1 [00:00<00:00,  5.49it/s]\n",
      "Evaluating: 100%|██████████| 1/1 [00:00<00:00, 13.74it/s]\n",
      "Evaluating: 100%|██████████| 1/1 [00:00<00:00,  1.51it/s]\n",
      "Evaluating: 100%|██████████| 1/1 [00:00<00:00, 34.48it/s]\n",
      "Evaluating: 100%|██████████| 1/1 [00:00<00:00,  6.39it/s]\n",
      "Evaluating: 100%|██████████| 1/1 [00:00<00:00, 21.40it/s]\n",
      "Evaluating: 100%|██████████| 1/1 [00:00<00:00,  9.61it/s]\n",
      "Evaluating: 100%|██████████| 1/1 [00:00<00:00, 13.82it/s]\n",
      "Evaluating: 100%|██████████| 1/1 [00:00<00:00,  2.66it/s]\n",
      "Evaluating: 100%|██████████| 1/1 [00:00<00:00, 26.73it/s]\n",
      "Evaluating: 100%|██████████| 1/1 [00:00<00:00,  4.88it/s]\n",
      "Evaluating: 100%|██████████| 1/1 [00:00<00:00, 16.68it/s]\n",
      "Evaluating: 100%|██████████| 1/1 [00:00<00:00,  5.32it/s]\n"
     ]
    }
   ],
   "source": [
    "import pandas as pd\n",
    "import json\n",
    "\n",
    "with open(\"../phi3-hyper-invalid2.json\", \"r\") as f:\n",
    "# Load dataset\n",
    "#with open(\"phi3-base_test.json\", \"r\") as f:\n",
    "    data = json.load(f)\n",
    "\n",
    "\n",
    "# Initialize lists to store extracted values\n",
    "file_names = []\n",
    "chain_labels = []\n",
    "novelty_scores = []\n",
    "alignment_scores_list1 = []\n",
    "alignment_scores_list2 = []\n",
    "chain_lengths = []\n",
    "contexts = []\n",
    "# Process data\n",
    "for entry in data:\n",
    "    metadata = entry[\"metadata\"]\n",
    "    file_name = metadata[\"file_name\"]\n",
    "    chain_label = metadata[\"chain_label\"]  # 'valid' or 'invalid'\n",
    "    \n",
    "    # Extract novelty analysis\n",
    "    novelty_analysis = entry[\"novelty_analysis\"]\n",
    "\n",
    "    novelty_score = novelty_analysis.get(\"novelty_result\", {})  # Default to 'not novel'\n",
    "    if novelty_score is None or not novelty_score.strip().startswith(\"{\"):  # Avoid parsing if not valid JSON\n",
    "        novelty_score = '{\"Novelty score\": null}'  # Assign a default JSON structure\n",
    "\n",
    "    novelty_score = json.loads(novelty_score)\n",
    "    \n",
    "    # Extract alignment score\n",
    "    generated_hypothesis = entry[\"generated_research_idea\"][\"Hypothesis\"]\n",
    "    target_hypothesis = \" \".join(metadata[\"target_hypothesis\"][\"Target Hypotheses\"])\n",
    "    \n",
    "    original_chain = entry.get(\"original_chain\", [])\n",
    "    concatenated_text = \" \".join([f\"({i+1}) {paper['title']} {paper['abstract']}\" for i, paper in enumerate(original_chain)])\n",
    "    if not generated_hypothesis or generated_hypothesis.strip() == \"\":\n",
    "        continue\n",
    "    \n",
    "    # Lookup computed alignment score\n",
    "    score1 = scorer.score(contexts=[target_hypothesis], claims=[generated_hypothesis])[0]  # Extract score\n",
    "    score2 = scorer.score(contexts=[concatenated_text], claims=[generated_hypothesis])[0]  # Extract score\n",
    "\n",
    "    chain_lengths.append(len(original_chain)-1)\n",
    "    \n",
    "    # Append to lists\n",
    "    file_names.append(file_name)\n",
    "    chain_labels.append(chain_label)\n",
    "    novelty_scores.append(novelty_score[\"Novelty score\"])\n",
    "    alignment_scores_list1.append(score1)\n",
    "    alignment_scores_list2.append(score2)\n",
    "    contexts.append(concatenated_text)\n",
    "    \n",
    "# Create DataFrame\n",
    "df_hyper = pd.DataFrame({\n",
    "    \"file_name\": file_names,\n",
    "    \"chain_label\": chain_labels,\n",
    "    \"context\": contexts,\n",
    "    \"novelty_score\": novelty_scores,\n",
    "    \"alignment_score_TH\": alignment_scores_list1,\n",
    "    \"alignment_score_CT\": alignment_scores_list2,\n",
    "    \"chain_length\": chain_lengths\n",
    "})\n",
    "\n",
    "\n"
   ]
  },
  {
   "cell_type": "code",
   "execution_count": 3,
   "metadata": {},
   "outputs": [
    {
     "name": "stderr",
     "output_type": "stream",
     "text": [
      "Evaluating: 100%|██████████| 1/1 [00:00<00:00,  8.88it/s]\n",
      "Evaluating: 100%|██████████| 1/1 [00:00<00:00,  1.03it/s]\n"
     ]
    },
    {
     "name": "stdout",
     "output_type": "stream",
     "text": [
      "(0.0030703083612024784, 0.3869016468524933)\n"
     ]
    },
    {
     "name": "stderr",
     "output_type": "stream",
     "text": [
      "Evaluating: 100%|██████████| 1/1 [00:00<00:00,  1.15it/s]\n",
      "Evaluating: 100%|██████████| 1/1 [00:01<00:00,  1.43s/it]\n"
     ]
    },
    {
     "name": "stdout",
     "output_type": "stream",
     "text": [
      "(0.5957256555557251, 0.10423088073730469)\n"
     ]
    },
    {
     "name": "stderr",
     "output_type": "stream",
     "text": [
      "Evaluating: 100%|██████████| 1/1 [00:01<00:00,  1.06s/it]\n",
      "Evaluating: 100%|██████████| 1/1 [00:00<00:00,  9.06it/s]\n"
     ]
    },
    {
     "name": "stdout",
     "output_type": "stream",
     "text": [
      "(0.4688173532485962, 0.01564030349254608)\n"
     ]
    },
    {
     "name": "stderr",
     "output_type": "stream",
     "text": [
      "Evaluating: 100%|██████████| 1/1 [00:00<00:00,  2.60it/s]\n",
      "Evaluating: 100%|██████████| 1/1 [00:00<00:00,  2.47it/s]\n"
     ]
    },
    {
     "name": "stdout",
     "output_type": "stream",
     "text": [
      "(0.2720102369785309, 0.18137851357460022)\n"
     ]
    },
    {
     "name": "stderr",
     "output_type": "stream",
     "text": [
      "Evaluating: 100%|██████████| 1/1 [00:01<00:00,  1.01s/it]\n",
      "Evaluating: 100%|██████████| 1/1 [00:00<00:00,  4.52it/s]\n"
     ]
    },
    {
     "name": "stdout",
     "output_type": "stream",
     "text": [
      "(0.3215486705303192, 0.1644449084997177)\n"
     ]
    },
    {
     "name": "stderr",
     "output_type": "stream",
     "text": [
      "Evaluating: 100%|██████████| 1/1 [00:00<00:00,  2.05it/s]\n",
      "Evaluating: 100%|██████████| 1/1 [00:01<00:00,  1.18s/it]\n"
     ]
    },
    {
     "name": "stdout",
     "output_type": "stream",
     "text": [
      "(0.5202050805091858, 0.1930566430091858)\n"
     ]
    },
    {
     "name": "stderr",
     "output_type": "stream",
     "text": [
      "Evaluating: 100%|██████████| 1/1 [00:00<00:00,  1.29it/s]\n",
      "Evaluating: 100%|██████████| 1/1 [00:00<00:00,  1.29it/s]\n"
     ]
    },
    {
     "name": "stdout",
     "output_type": "stream",
     "text": [
      "(0.2845674157142639, 0.31714242696762085)\n"
     ]
    },
    {
     "name": "stderr",
     "output_type": "stream",
     "text": [
      "Evaluating: 100%|██████████| 1/1 [00:00<00:00,  1.04it/s]\n",
      "Evaluating: 100%|██████████| 1/1 [00:01<00:00,  1.66s/it]\n"
     ]
    },
    {
     "name": "stdout",
     "output_type": "stream",
     "text": [
      "(0.21214662492275238, 0.06716586649417877)\n"
     ]
    },
    {
     "name": "stderr",
     "output_type": "stream",
     "text": [
      "Evaluating: 100%|██████████| 1/1 [00:00<00:00,  6.67it/s]\n",
      "Evaluating: 100%|██████████| 1/1 [00:01<00:00,  1.55s/it]\n"
     ]
    },
    {
     "name": "stdout",
     "output_type": "stream",
     "text": [
      "(0.1393653005361557, 0.32146212458610535)\n"
     ]
    },
    {
     "name": "stderr",
     "output_type": "stream",
     "text": [
      "Evaluating: 100%|██████████| 1/1 [00:00<00:00,  1.39it/s]\n",
      "Evaluating: 100%|██████████| 1/1 [00:00<00:00,  3.67it/s]\n"
     ]
    },
    {
     "name": "stdout",
     "output_type": "stream",
     "text": [
      "(0.347361296415329, 0.0762583464384079)\n"
     ]
    },
    {
     "name": "stderr",
     "output_type": "stream",
     "text": [
      "Evaluating: 100%|██████████| 1/1 [00:00<00:00,  1.04it/s]\n",
      "Evaluating: 100%|██████████| 1/1 [00:00<00:00,  1.58it/s]\n"
     ]
    },
    {
     "name": "stdout",
     "output_type": "stream",
     "text": [
      "(0.43718820810317993, 0.25290048122406006)\n"
     ]
    },
    {
     "name": "stderr",
     "output_type": "stream",
     "text": [
      "Evaluating: 100%|██████████| 1/1 [00:01<00:00,  1.89s/it]\n",
      "Evaluating: 100%|██████████| 1/1 [00:00<00:00,  2.02it/s]\n"
     ]
    },
    {
     "name": "stdout",
     "output_type": "stream",
     "text": [
      "(0.5916618704795837, 0.38367727398872375)\n"
     ]
    },
    {
     "name": "stderr",
     "output_type": "stream",
     "text": [
      "Evaluating: 100%|██████████| 1/1 [00:00<00:00,  1.01it/s]\n",
      "Evaluating: 100%|██████████| 1/1 [00:00<00:00,  1.15it/s]\n"
     ]
    },
    {
     "name": "stdout",
     "output_type": "stream",
     "text": [
      "(0.27001953125, 0.24097952246665955)\n"
     ]
    },
    {
     "name": "stderr",
     "output_type": "stream",
     "text": [
      "Evaluating: 100%|██████████| 1/1 [00:00<00:00,  1.90it/s]\n",
      "Evaluating: 100%|██████████| 1/1 [00:00<00:00,  5.63it/s]\n"
     ]
    },
    {
     "name": "stdout",
     "output_type": "stream",
     "text": [
      "(0.3510335087776184, 0.0009541852632537484)\n"
     ]
    },
    {
     "name": "stderr",
     "output_type": "stream",
     "text": [
      "Evaluating: 100%|██████████| 1/1 [00:00<00:00,  8.02it/s]\n",
      "Evaluating: 100%|██████████| 1/1 [00:00<00:00,  1.33it/s]\n"
     ]
    },
    {
     "name": "stdout",
     "output_type": "stream",
     "text": [
      "(0.16071878373622894, 0.3526141941547394)\n"
     ]
    },
    {
     "name": "stderr",
     "output_type": "stream",
     "text": [
      "Evaluating: 100%|██████████| 1/1 [00:00<00:00,  6.09it/s]\n",
      "Evaluating: 100%|██████████| 1/1 [00:01<00:00,  1.94s/it]\n"
     ]
    },
    {
     "name": "stdout",
     "output_type": "stream",
     "text": [
      "(0.24637283384799957, 0.16992612183094025)\n"
     ]
    },
    {
     "name": "stderr",
     "output_type": "stream",
     "text": [
      "Evaluating: 100%|██████████| 1/1 [00:01<00:00,  1.07s/it]\n",
      "Evaluating: 100%|██████████| 1/1 [00:00<00:00,  1.92it/s]\n"
     ]
    },
    {
     "name": "stdout",
     "output_type": "stream",
     "text": [
      "(0.5330010652542114, 0.23819513618946075)\n"
     ]
    },
    {
     "name": "stderr",
     "output_type": "stream",
     "text": [
      "Evaluating: 100%|██████████| 1/1 [00:00<00:00,  1.96it/s]\n",
      "Evaluating: 100%|██████████| 1/1 [00:00<00:00,  1.28it/s]\n"
     ]
    },
    {
     "name": "stdout",
     "output_type": "stream",
     "text": [
      "(0.18566013872623444, 0.22577467560768127)\n"
     ]
    },
    {
     "name": "stderr",
     "output_type": "stream",
     "text": [
      "Evaluating: 100%|██████████| 1/1 [00:00<00:00,  2.38it/s]\n",
      "Evaluating: 100%|██████████| 1/1 [00:00<00:00,  1.32it/s]\n"
     ]
    },
    {
     "name": "stdout",
     "output_type": "stream",
     "text": [
      "(0.06430133432149887, 0.04741601645946503)\n"
     ]
    },
    {
     "name": "stderr",
     "output_type": "stream",
     "text": [
      "Evaluating: 100%|██████████| 1/1 [00:00<00:00,  6.25it/s]\n",
      "Evaluating: 100%|██████████| 1/1 [00:00<00:00,  3.05it/s]\n"
     ]
    },
    {
     "name": "stdout",
     "output_type": "stream",
     "text": [
      "(0.043209392577409744, 0.055266041308641434)\n"
     ]
    },
    {
     "name": "stderr",
     "output_type": "stream",
     "text": [
      "Evaluating: 100%|██████████| 1/1 [00:00<00:00,  1.11it/s]\n",
      "Evaluating: 100%|██████████| 1/1 [00:00<00:00,  8.80it/s]\n"
     ]
    },
    {
     "name": "stdout",
     "output_type": "stream",
     "text": [
      "(0.08118970692157745, 0.02796826884150505)\n"
     ]
    },
    {
     "name": "stderr",
     "output_type": "stream",
     "text": [
      "Evaluating: 100%|██████████| 1/1 [00:00<00:00,  1.77it/s]\n",
      "Evaluating: 100%|██████████| 1/1 [00:01<00:00,  1.96s/it]\n"
     ]
    },
    {
     "name": "stdout",
     "output_type": "stream",
     "text": [
      "(0.266601026058197, 0.316658616065979)\n"
     ]
    },
    {
     "name": "stderr",
     "output_type": "stream",
     "text": [
      "Evaluating: 100%|██████████| 1/1 [00:01<00:00,  1.91s/it]\n",
      "Evaluating: 100%|██████████| 1/1 [00:00<00:00,  5.69it/s]\n"
     ]
    },
    {
     "name": "stdout",
     "output_type": "stream",
     "text": [
      "(0.35657501220703125, 0.08013901114463806)\n"
     ]
    },
    {
     "name": "stderr",
     "output_type": "stream",
     "text": [
      "Evaluating: 100%|██████████| 1/1 [00:00<00:00,  2.06it/s]\n",
      "Evaluating: 100%|██████████| 1/1 [00:00<00:00,  1.06it/s]\n"
     ]
    },
    {
     "name": "stdout",
     "output_type": "stream",
     "text": [
      "(0.4054064452648163, 0.28921857476234436)\n"
     ]
    },
    {
     "name": "stderr",
     "output_type": "stream",
     "text": [
      "Evaluating: 100%|██████████| 1/1 [00:01<00:00,  1.02s/it]\n",
      "Evaluating: 100%|██████████| 1/1 [00:00<00:00,  6.29it/s]\n"
     ]
    },
    {
     "name": "stdout",
     "output_type": "stream",
     "text": [
      "(0.22001776099205017, 0.004529008641839027)\n"
     ]
    },
    {
     "name": "stderr",
     "output_type": "stream",
     "text": [
      "Evaluating: 100%|██████████| 1/1 [00:00<00:00,  1.54it/s]\n",
      "Evaluating: 100%|██████████| 1/1 [00:00<00:00, 16.12it/s]\n"
     ]
    },
    {
     "name": "stdout",
     "output_type": "stream",
     "text": [
      "(0.08860781043767929, 0.01247821468859911)\n"
     ]
    },
    {
     "name": "stderr",
     "output_type": "stream",
     "text": [
      "Evaluating: 100%|██████████| 1/1 [00:00<00:00,  2.56it/s]\n",
      "Evaluating: 100%|██████████| 1/1 [00:00<00:00,  1.90it/s]\n"
     ]
    },
    {
     "name": "stdout",
     "output_type": "stream",
     "text": [
      "(0.625615656375885, 0.04222998768091202)\n"
     ]
    },
    {
     "name": "stderr",
     "output_type": "stream",
     "text": [
      "Evaluating: 100%|██████████| 1/1 [00:00<00:00,  2.39it/s]\n",
      "Evaluating: 100%|██████████| 1/1 [00:01<00:00,  1.45s/it]"
     ]
    },
    {
     "name": "stdout",
     "output_type": "stream",
     "text": [
      "(0.3266468942165375, 0.44574785232543945)\n"
     ]
    },
    {
     "name": "stderr",
     "output_type": "stream",
     "text": [
      "\n"
     ]
    }
   ],
   "source": [
    "import pandas as pd\n",
    "import json\n",
    "\n",
    "# Load dataset\n",
    "with open(\"../phi3-hyper-invalid2.json\", \"r\") as f:\n",
    "#with open(\"phi3-base_test.json\", \"r\") as f:\n",
    "    data = json.load(f)\n",
    "\n",
    "#output_file = \"alignscore_hyper.csv\"\n",
    "\n",
    "# Initialize lists to store extracted values\n",
    "file_names = []\n",
    "chain_labels = []\n",
    "explanation_groundedness_scores = []\n",
    "chain_lengths = []\n",
    "explanations = []\n",
    "contexts = []\n",
    "original_chains = []\n",
    "\n",
    "# Process data\n",
    "for entry in data:\n",
    "    # Extract generated explanation (assume it's under 'generated_research_idea' -> 'Explanation')\n",
    "    generated_analysis = json.dumps(entry[\"generated_research_idea\"].get(\"Analysis\", {}), indent=2)  # Convert to string\n",
    "    generated_explanation = entry[\"generated_research_idea\"].get(\"Rationale\", \"\")\n",
    "    generated_idea = entry[\"generated_research_idea\"].get(\"Research idea\", \"\")\n",
    "    generated_hypothesis = entry[\"generated_research_idea\"].get(\"Hypothesis\", \"\")\n",
    "\n",
    "    # Combine all components into a single explanation string\n",
    "    generated_full_explanation = f\"{generated_explanation}\\n{generated_idea}\\n{generated_hypothesis}\"\n",
    "    if not generated_full_explanation.strip():\n",
    "        print(f\"Skipping {file_name} due to missing explanation\")\n",
    "        continue\n",
    "    \n",
    "    metadata = entry[\"metadata\"]\n",
    "    file_name = metadata[\"file_name\"]\n",
    "    chain_label = metadata[\"chain_label\"]  # 'valid' or 'invalid'\n",
    "    \n",
    "    # Extract original reasoning chain\n",
    "    original_chain = entry.get(\"original_chain\", [])\n",
    "    context = \" \".join([f\"({i+1}) {paper['title']} {paper['abstract']}\" for i, paper in enumerate(original_chain)])\n",
    "    \n",
    "    if chain_label == \"valid\":\n",
    "        reasoning_context = context\n",
    "        align_score1 = scorer.score(\n",
    "            contexts=[reasoning_context],  # The full reasoning chain\n",
    "            claims=[generated_full_explanation]\n",
    "        )[0]   # Extract score\n",
    "        align_score2 = 0\n",
    "        \n",
    "    \n",
    "    elif chain_label == \"invalid_type2\":\n",
    "        valid_nodes = []\n",
    "        invalid_nodes = []\n",
    "        found_invalid = False  # Flag to detect the first invalid node\n",
    "\n",
    "        for paper in original_chain:\n",
    "            if paper.get(\"relevance\", 1) == 0 and not found_invalid:\n",
    "                found_invalid = True  # Mark that we've found the first invalid node\n",
    "        \n",
    "            if not found_invalid:\n",
    "                valid_nodes.append(f\"({len(valid_nodes) + 1}) {paper['title']} {paper.get('abstract', '')}\")\n",
    "            else:\n",
    "                invalid_nodes.append(f\"({len(invalid_nodes) + 1}) {paper['title']} {paper.get('abstract', '')}\")\n",
    "               \n",
    "        # Create reasoning contexts\n",
    "        valid_context = \" \".join(valid_nodes) if valid_nodes else None\n",
    "        invalid_context = \" \".join(invalid_nodes) if invalid_nodes else None\n",
    "        \n",
    "        align_score1 = scorer.score(\n",
    "                contexts=[valid_context],  # The full reasoning chain\n",
    "                claims=[generated_full_explanation]\n",
    "            )[0]   # Extract score\n",
    "        \n",
    "        align_score2 = scorer.score(\n",
    "                contexts=[invalid_context],  # The full reasoning chain\n",
    "                claims=[generated_full_explanation]\n",
    "            )[0]   # Extract score\n",
    "        \n",
    "    elif chain_label == \"invalid_type1\":\n",
    "        valid_nodes = []\n",
    "        invalid_nodes = []\n",
    "\n",
    "        for paper in original_chain:\n",
    "            if paper.get(\"relevance\", 1) == 0:\n",
    "                invalid_nodes.append(f\"({len(invalid_nodes) + 1}) {paper['title']} {paper.get('abstract', '')}\")\n",
    "            else:\n",
    "                valid_nodes.append(f\"({len(valid_nodes) + 1}) {paper['title']} {paper.get('abstract', '')}\")\n",
    "\n",
    "        # Create reasoning contexts\n",
    "        valid_context = \" \".join(valid_nodes) if valid_nodes else None\n",
    "        invalid_context = \" \".join(invalid_nodes) if invalid_nodes else None\n",
    "        \n",
    "        \n",
    "        align_score1 = scorer.score(\n",
    "                contexts=[valid_context],  # The full reasoning chain\n",
    "                claims=[generated_full_explanation]\n",
    "            )[0]   # Extract score\n",
    "        \n",
    "        align_score2 = scorer.score(\n",
    "                contexts=[invalid_context],  # The full reasoning chain\n",
    "                claims=[generated_full_explanation]\n",
    "            )[0]   # Extract score\n",
    "        \n",
    "    \n",
    "    # Compute Explanation Groundedness using alignment score\n",
    "    explanation_groundedness_score = (align_score1, align_score2)\n",
    "\n",
    "    print(explanation_groundedness_score)\n",
    "    \n",
    "    # Append to lists\n",
    "    file_names.append(file_name)\n",
    "    chain_labels.append(chain_label)\n",
    "    explanation_groundedness_scores.append(explanation_groundedness_score)\n",
    "    chain_lengths.append(len(original_chain) - 1)  # Chain length excluding source paper\n",
    "    contexts.append(context)\n",
    "    explanations.append(generated_full_explanation)\n",
    "    original_chains.append(original_chain)\n",
    "    \n",
    "# Create DataFrame\n",
    "df_align_hyper = pd.DataFrame({\n",
    "    \"file_name\": file_names,\n",
    "    \"chain_label\": chain_labels,\n",
    "    \"original_chains\": original_chains,\n",
    "    \"context\": contexts,\n",
    "    \"explanation\": explanations,\n",
    "    \"explanation_groundedness\": explanation_groundedness_scores,\n",
    "    \"chain_length\": chain_lengths\n",
    "})\n",
    "\n",
    "#output_file = \"alignscore_hyper.csv\"\n",
    "#df_align_hyper.to_csv(output_file, index=False)\n",
    "#print(f\"Results saved to {output_file}\")"
   ]
  },
  {
   "cell_type": "code",
   "execution_count": 4,
   "metadata": {},
   "outputs": [
    {
     "name": "stdout",
     "output_type": "stream",
     "text": [
      "First Item - Mean: 0.301, Std: 0.17\n",
      "Second Item - Mean: 0.179, Std: 0.13\n"
     ]
    }
   ],
   "source": [
    "import numpy as np\n",
    "\n",
    "df_valid = df_align_hyper[df_align_hyper[\"chain_label\"] == \"invalid_type2\"]\n",
    "\n",
    "# Extract the first and second elements separately\n",
    "first_items = [x[0] for x in df_valid[\"explanation_groundedness\"]]\n",
    "second_items = [x[1] for x in df_valid[\"explanation_groundedness\"]]\n",
    "\n",
    "mean_first = round(np.mean(first_items), 3)\n",
    "std_first = round(np.std(first_items), 2)\n",
    "\n",
    "mean_second = round(np.mean(second_items), 3)\n",
    "std_second = round(np.std(second_items), 2)\n",
    "\n",
    "# Display results\n",
    "print(f\"First Item - Mean: {mean_first}, Std: {std_first}\")\n",
    "print(f\"Second Item - Mean: {mean_second}, Std: {std_second}\")\n"
   ]
  },
  {
   "cell_type": "code",
   "execution_count": null,
   "metadata": {},
   "outputs": [],
   "source": [
    "df_align_hyper"
   ]
  },
  {
   "cell_type": "code",
   "execution_count": 51,
   "metadata": {},
   "outputs": [
    {
     "data": {
      "image/png": "[encoded data removed]",
      "text/plain": [
       "<Figure size 600x600 with 1 Axes>"
      ]
     },
     "metadata": {},
     "output_type": "display_data"
    }
   ],
   "source": [
    "import pandas as pd\n",
    "import matplotlib.pyplot as plt\n",
    "import seaborn as sns\n",
    "\n",
    "# Define data\n",
    "raw_data = \"\"\"human_clarity\\thuman_originality\\thuman_impact\\thuman_feasibility\\tllm_clarity\\tllm_relevance\\tllm_originality\\tllm_impact\\tllm_feasibility\n",
    "4.33\t2.67\t3.33\t5\t4\t4\t3\t4\t3\n",
    "3.33\t3\t4\t2.5\t3\t3\t3\t3.34\t3.34\n",
    "4\t4\t4.67\t5\t3.66\t4\t3\t4\t3.66\n",
    "2.67\t3.33\t3.33\t0.83\t2\t2\t2.66\t2.66\t2\n",
    "4\t2.67\t3.67\t5\t4\t4\t3\t4\t4\n",
    "3.33\t3.67\t3.67\t4.17\t3\t3\t3\t3\t3\n",
    "4\t3.83\t4\t4.17\t3.6\t3.6\t3\t3\t3.3\n",
    "4.33\t3.33\t4.33\t5\t4\t4\t3\t3.66\t3\n",
    "4.33\t3\t3.33\t5\t3\t3\t3\t3.66\t3\n",
    "4\t2.67\t4.33\t3.33\t4\t4\t3\t4\t4\n",
    "4\t2.67\t3\t5\t2\t3\t3\t3\t3\n",
    "4\t2.67\t2.67\t5\t2\t2.66\t2\t2.33\t3\n",
    "4.33\t4\t4\t5\t4\t4\t3\t4\t3\n",
    "3.5\t3.33\t3.33\t4.17\t3.33\t3\t3\t3.66\t3\n",
    "4\t3.33\t3.67\t4.17\t3.66\t3.33\t3\t3\t3.66\"\"\"\n",
    "\n",
    "# Read data into a pandas DataFrame\n",
    "data = pd.read_csv(pd.io.common.StringIO(raw_data), sep=\"\\t\")\n",
    "\n",
    "# Define categories and colors\n",
    "categories = {\"clarity\": \"blue\", \"originality\": \"red\", \"impact\": \"magenta\", \"feasibility\": \"cyan\"}\n",
    "\n",
    "# Set Seaborn style\n",
    "sns.set_style(\"whitegrid\")\n",
    "plt.figure(figsize=(6, 6))  # Square figure\n",
    "\n",
    "# Define color palette\n",
    "palette = sns.color_palette(\"Set2\", len(categories))\n",
    "\n",
    "# Create scatter plot\n",
    "sns.scatterplot(x=data[\"human_clarity\"], y=data[\"llm_clarity\"], label=\"Clarity\", color=palette[0], s=100, edgecolor=\"black\", alpha=0.85)\n",
    "sns.scatterplot(x=data[\"human_originality\"], y=data[\"llm_originality\"], label=\"Originality\", color=palette[1], s=100, edgecolor=\"black\", alpha=0.85)\n",
    "sns.scatterplot(x=data[\"human_impact\"], y=data[\"llm_impact\"], label=\"Impact\", color=palette[2], s=100, edgecolor=\"black\", alpha=0.85)\n",
    "sns.scatterplot(x=data[\"human_feasibility\"], y=data[\"llm_feasibility\"], label=\"Feasibility\", color=palette[3], s=100, edgecolor=\"black\", alpha=0.85)\n",
    "\n",
    "# Add regression lines\n",
    "sns.regplot(x=data[\"human_clarity\"], y=data[\"llm_clarity\"], scatter=False, color=palette[0], ci=None, line_kws={\"linewidth\": 1.5, \"linestyle\": \"--\"})\n",
    "sns.regplot(x=data[\"human_originality\"], y=data[\"llm_originality\"], scatter=False, color=palette[1], ci=None, line_kws={\"linewidth\": 1.5, \"linestyle\": \"--\"})\n",
    "sns.regplot(x=data[\"human_impact\"], y=data[\"llm_impact\"], scatter=False, color=palette[2], ci=None, line_kws={\"linewidth\": 1.5, \"linestyle\": \"--\"})\n",
    "sns.regplot(x=data[\"human_feasibility\"], y=data[\"llm_feasibility\"], scatter=False, color=palette[3], ci=None, line_kws={\"linewidth\": 1.5, \"linestyle\": \"--\"})\n",
    "\n",
    "# Labels and title\n",
    "plt.xlabel(\"Human Ratings\", fontsize=12, fontweight='bold')\n",
    "plt.ylabel(\"LLM-as-Judge Ratings\", fontsize=12, fontweight='bold')\n",
    "\n",
    "# Single legend at bottom\n",
    "plt.legend(title=\"Categories\", loc=\"lower center\", fontsize=10, bbox_to_anchor=(0.5, 0.9), ncol=4)\n",
    "plt.grid(True, linestyle=\"--\", alpha=0.7)\n",
    "plt.xlim(1, 5)\n",
    "plt.ylim(1, 5)\n",
    "\n",
    "# Save plot as PDF\n",
    "plt.savefig(\"human_vs_llm.pdf\", format=\"pdf\", bbox_inches=\"tight\")\n",
    "\n",
    "# Show plot\n",
    "plt.show()\n"
   ]
  },
  {
   "cell_type": "code",
   "execution_count": 58,
   "metadata": {},
   "outputs": [
    {
     "data": {
      "image/png": "[encoded data removed]",
      "text/plain": [
       "<Figure size 600x300 with 1 Axes>"
      ]
     },
     "metadata": {},
     "output_type": "display_data"
    }
   ],
   "source": [
    "import pandas as pd\n",
    "import matplotlib.pyplot as plt\n",
    "import seaborn as sns\n",
    "from io import StringIO  # Correct import\n",
    "\n",
    "# Define data\n",
    "raw_data = \"\"\"human_clarity\\thuman_originality\\thuman_impact\\thuman_feasibility\\tllm_clarity\\tllm_relevance\\tllm_originality\\tllm_impact\\tllm_feasibility\n",
    "4.33\t2.67\t3.33\t5\t4\t4\t3\t4\t3\n",
    "3.33\t3\t4\t2.5\t3\t3\t3\t3.34\t3.34\n",
    "4\t4\t4.67\t5\t3.66\t4\t3\t4\t3.66\n",
    "2.67\t3.33\t3.33\t0.83\t2\t2\t2.66\t2.66\t2\n",
    "4\t2.67\t3.67\t5\t4\t4\t3\t4\t4\n",
    "3.33\t3.67\t3.67\t4.17\t3\t3\t3\t3\t3\n",
    "4\t3.83\t4\t4.17\t3.6\t3.6\t3\t3\t3.3\n",
    "4.33\t3.33\t4.33\t5\t4\t4\t3\t3.66\t3\n",
    "4.33\t3\t3.33\t5\t3\t3\t3\t3.66\t3\n",
    "4\t2.67\t4.33\t3.33\t4\t4\t3\t4\t4\n",
    "4\t2.67\t3\t5\t2\t3\t3\t3\t3\n",
    "4\t2.67\t2.67\t5\t2\t2.66\t2\t2.33\t3\n",
    "4.33\t4\t4\t5\t4\t4\t3\t4\t3\n",
    "3.5\t3.33\t3.33\t4.17\t3.33\t3\t3\t3.66\t3\n",
    "4\t3.33\t3.67\t4.17\t3.66\t3.33\t3\t3\t3.66\"\"\"\n",
    "\n",
    "# Read data into a pandas DataFrame\n",
    "data = pd.read_csv(StringIO(raw_data), sep=\"\\t\")  # Corrected\n",
    "\n",
    "# Define categories and colors\n",
    "categories = [\"Clarity\", \"Originality\", \"Impact\", \"Feasibility\"]\n",
    "palette = sns.color_palette(\"Set2\", len(categories))\n",
    "\n",
    "# Set Seaborn style\n",
    "sns.set_style(\"whitegrid\")\n",
    "plt.figure(figsize=(6, 3))  # Square figure\n",
    "\n",
    "# Create scatter plots\n",
    "sns.scatterplot(x=data[\"human_clarity\"], y=data[\"llm_clarity\"], label=\"Clarity\", color=palette[0], s=30, edgecolor=\"black\", marker=\"o\", alpha=0.85)\n",
    "sns.scatterplot(x=data[\"human_originality\"], y=data[\"llm_originality\"], label=\"Originality\", color=palette[1], s=30, edgecolor=\"black\", marker=\"o\", alpha=0.85)\n",
    "sns.scatterplot(x=data[\"human_impact\"], y=data[\"llm_impact\"], label=\"Impact\", color=palette[2], s=30, edgecolor=\"black\", marker=\"o\", alpha=0.85)\n",
    "sns.scatterplot(x=data[\"human_feasibility\"], y=data[\"llm_feasibility\"], label=\"Feasibility\", color=palette[3], s=30, edgecolor=\"black\", marker=\"o\", alpha=0.85)\n",
    "\n",
    "# Add regression lines\n",
    "sns.regplot(x=data[\"human_clarity\"], y=data[\"llm_clarity\"], scatter=False, color=palette[0], ci=None, line_kws={\"linewidth\": 1.5, \"linestyle\": \"--\"})\n",
    "sns.regplot(x=data[\"human_originality\"], y=data[\"llm_originality\"], scatter=False, color=palette[1], ci=None, line_kws={\"linewidth\": 1.5, \"linestyle\": \"--\"})\n",
    "sns.regplot(x=data[\"human_impact\"], y=data[\"llm_impact\"], scatter=False, color=palette[2], ci=None, line_kws={\"linewidth\": 1.5, \"linestyle\": \"--\"})\n",
    "sns.regplot(x=data[\"human_feasibility\"], y=data[\"llm_feasibility\"], scatter=False, color=palette[3], ci=None, line_kws={\"linewidth\": 1.5, \"linestyle\": \"--\"})\n",
    "\n",
    "# Labels and title\n",
    "plt.xlabel(\"Human Ratings\", fontsize=12, fontweight='bold')\n",
    "plt.ylabel(\"LLM-as-Judge Ratings\", fontsize=12, fontweight='bold')\n",
    "\n",
    "# Single legend at bottom\n",
    "plt.legend(title=\"Categories\", loc=\"upper center\", fontsize=10, bbox_to_anchor=(0.5, -0.17), ncol=4)\n",
    "plt.grid(True, linestyle=\"--\", alpha=0.7)\n",
    "plt.xlim(1, 5.5)\n",
    "plt.ylim(1, 5.5)\n",
    "\n",
    "# Save plot as PDF\n",
    "plt.savefig(\"human_vs_llm.pdf\", format=\"pdf\", bbox_inches=\"tight\")\n",
    "\n",
    "# Show plot\n",
    "plt.show()\n"
   ]
  },
  {
   "cell_type": "code",
   "execution_count": null,
   "metadata": {},
   "outputs": [],
   "source": []
  }
 ],
 "metadata": {
  "kernelspec": {
   "display_name": "scigen",
   "language": "python",
   "name": "python3"
  },
  "language_info": {
   "codemirror_mode": {
    "name": "ipython",
    "version": 3
   },
   "file_extension": ".py",
   "mimetype": "text/x-python",
   "name": "python",
   "nbconvert_exporter": "python",
   "pygments_lexer": "ipython3",
   "version": "3.8.18"
  }
 },
 "nbformat": 4,
 "nbformat_minor": 2
}
