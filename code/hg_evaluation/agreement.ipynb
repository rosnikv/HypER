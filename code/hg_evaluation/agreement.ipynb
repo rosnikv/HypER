{
 "cells": [
  {
   "cell_type": "code",
   "execution_count": null,
   "metadata": {},
   "outputs": [
    {
     "data": {
      "text/plain": [
       "{'clarity': {'pearson': 0.531, 'spearman': 0.567},\n",
       " 'originality': {'pearson': 0.27, 'spearman': 0.183},\n",
       " 'impact': {'pearson': 0.573, 'spearman': 0.51},\n",
       " 'feasibility': {'pearson': 0.376, 'spearman': -0.082}}"
      ]
     },
     "execution_count": 1,
     "metadata": {},
     "output_type": "execute_result"
    }
   ],
   "source": [
    "import pandas as pd\n",
    "from scipy.stats import pearsonr, spearmanr\n",
    "\n",
    "data = {\n",
    "    \"human_clarity\": [4.33, 3.33, 4, 2.67, 4, 3.33, 4, 4.33, 4.33, 4, 4, 4, 4.33, 3.5, 4],\n",
    "    \"human_originality\": [2.67, 3, 4, 3.33, 2.67, 3.67, 3.83, 3.33, 3, 2.67, 2.67, 2.67, 4, 3.33, 3.33],\n",
    "    \"human_impact\": [3.33, 4, 4.67, 3.33, 3.67, 3.67, 4, 4.33, 3.33, 4.33, 3, 2.67, 4, 3.33, 3.67],\n",
    "    \"human_feasibility\": [5, 2.5, 5, 0.83, 5, 4.17, 4.17, 5, 5, 3.33, 5, 5, 5, 4.17, 4.17],\n",
    "    \"llm_clarity\": [4, 3, 3.66, 2, 4, 3, 3.6, 4, 3, 4, 2, 2, 4, 3.33, 3.66],\n",
    "    \"llm_originality\": [3, 3, 3, 2.66, 3, 3, 3, 3, 3, 3, 3, 2, 3, 3, 3],\n",
    "    \"llm_impact\": [4, 3.34, 4, 2.66, 4, 3, 3, 3.66, 3.66, 4, 3, 2.33, 4, 3.66, 3],\n",
    "    \"llm_feasibility\": [3, 3.34, 3.66, 2, 4, 3, 3.3, 3, 3, 4, 3, 3, 3, 3, 3.66]\n",
    "}\n",
    "\n",
    "# Convert to DataFrame\n",
    "df = pd.DataFrame(data)\n",
    "\n",
    "# Compute Pearson and Spearman correlations for each metric\n",
    "correlations = {}\n",
    "for metric in [\"clarity\", \"originality\", \"impact\", \"feasibility\"]:\n",
    "    human = df[f\"human_{metric}\"]\n",
    "    llm = df[f\"llm_{metric}\"]\n",
    "    pearson_corr, _ = pearsonr(human, llm)\n",
    "    spearman_corr, _ = spearmanr(human, llm)\n",
    "    correlations[metric] = {\n",
    "        \"pearson\": round(pearson_corr, 3),\n",
    "        \"spearman\": round(spearman_corr, 3)\n",
    "    }\n",
    "\n",
    "correlations\n"
   ]
  }
 ],
 "metadata": {
  "kernelspec": {
   "display_name": "scigen",
   "language": "python",
   "name": "python3"
  },
  "language_info": {
   "codemirror_mode": {
    "name": "ipython",
    "version": 3
   },
   "file_extension": ".py",
   "mimetype": "text/x-python",
   "name": "python",
   "nbconvert_exporter": "python",
   "pygments_lexer": "ipython3",
   "version": "3.9.21"
  }
 },
 "nbformat": 4,
 "nbformat_minor": 2
}
