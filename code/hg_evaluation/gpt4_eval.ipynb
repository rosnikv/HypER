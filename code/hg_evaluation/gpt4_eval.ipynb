{
 "cells": [
  {
   "cell_type": "code",
   "execution_count": 4,
   "metadata": {},
   "outputs": [
    {
     "data": {
      "text/plain": [
       "556"
      ]
     },
     "execution_count": 4,
     "metadata": {},
     "output_type": "execute_result"
    }
   ],
   "source": [
    "import json\n",
    "\n",
    "file1 = \"final_hyper_gpt4.json\"\n",
    "file2 = \"final_hyper.json\"\n",
    "\n",
    "with open(file1, 'r') as f1, open(file2, 'r') as f2:\n",
    "    data1 = json.load(f1)\n",
    "    data2 = json.load(f2)\n",
    "\n",
    "# Safe stringify function for entries\n",
    "def stringify_entry_safe(entry):\n",
    "    abstract = entry.get('abstract', '')\n",
    "    if abstract:\n",
    "        abstract = abstract.replace('\\n', ' ').strip()\n",
    "    return (\n",
    "        f\"paperId={entry.get('paperId', '')} | \"\n",
    "        f\"pmid={entry.get('pmid', '')} | \"\n",
    "        f\"year={entry.get('year', '')} | \"\n",
    "        f\"citation_count={entry.get('citation_count', '')} | \"\n",
    "        f\"title={entry.get('title', '').strip()} | \"\n",
    "        f\"abstract={abstract}\"\n",
    "    )\n",
    "\n",
    "def get_all_stringified_chains_safe(data):\n",
    "    chains = set()\n",
    "    for item in data:\n",
    "        for entry in item.get(\"original_chain\", []):\n",
    "            chains.add(stringify_entry_safe(entry))\n",
    "    return chains\n",
    "\n",
    "def get_stringified_entry_map(data):\n",
    "    entry_map = {}\n",
    "    for item in data:\n",
    "        for entry in item.get(\"original_chain\", []):\n",
    "            stringified = stringify_entry_safe(entry)\n",
    "            entry_map[stringified] = entry\n",
    "    return entry_map\n",
    "\n",
    "map1 = get_stringified_entry_map(data1)\n",
    "map2 = get_stringified_entry_map(data2)\n",
    "matching_keys = set(map1.keys()) & set(map2.keys())\n",
    "len(matching_keys)"
   ]
  },
  {
   "cell_type": "code",
   "execution_count": 9,
   "metadata": {},
   "outputs": [],
   "source": [
    "file_name_lookup_data1 = {item[\"metadata\"][\"file_name\"]: item for item in data1}\n",
    "matched_items = []\n",
    "for item1 in data2:\n",
    "    file_name = item1[\"metadata\"].get(\"file_name\")\n",
    "    item2 = file_name_lookup_data1.get(file_name)\n",
    "    if item2:\n",
    "        matched_items.append((file_name, item1[\"generated_research_idea\"], item2[\"generated_research_idea\"]))\n"
   ]
  },
  {
   "cell_type": "code",
   "execution_count": 20,
   "metadata": {},
   "outputs": [
    {
     "data": {
      "text/plain": [
       "131"
      ]
     },
     "execution_count": 20,
     "metadata": {},
     "output_type": "execute_result"
    }
   ],
   "source": [
    "len(matched_items)"
   ]
  },
  {
   "cell_type": "code",
   "execution_count": null,
   "metadata": {},
   "outputs": [],
   "source": [
    "matched_items = []\n",
    "\n",
    "for item1 in data2:\n",
    "    file_name = item1[\"metadata\"].get(\"file_name\")\n",
    "    item2 = file_name_lookup_data1.get(file_name)\n",
    "    if item2:\n",
    "        matched_items.append({\n",
    "            \"file_name\": file_name,\n",
    "            \"gpt4_generated_idea\": item2.get(\"generated_research_idea\"),\n",
    "            \"gpt4_scores\": item2.get(\"scores\"),\n",
    "            \"hyper_generated_idea\": item1.get(\"generated_research_idea\"),\n",
    "            \"hyper_scores\": item1.get(\"scores\")\n",
    "        })\n",
    "\n",
    "print(json.dumps(matched_items[0], indent=2))"
   ]
  },
  {
   "cell_type": "code",
   "execution_count": 27,
   "metadata": {},
   "outputs": [
    {
     "name": "stdout",
     "output_type": "stream",
     "text": [
      "31\n",
      "{\n",
      "  \"file_name\": \"temporal_chain_CD005158_p-1.json\",\n",
      "  \"gpt4_generated_idea\": {\n",
      "    \"Analysis\": \"\\n        \\\"related paper 0\\\": \\\"This paper builds upon the source paper by evaluating the optimal duration of dual antiplatelet therapy (DAPT) with clopidogrel and aspirin in patients with acute coronary syndrome (ACS). It extends the findings of the source paper by examining the effects of different durations of DAPT on ischemic events and bleeding, providing real-world data from a large cohort.\\\",\\n        \\\"related paper 1\\\": \\\"This paper discusses the necessity of prolonged DAPT in patients with drug-eluting stents, building on the previous findings by questioning the universal application of extended DAPT. It highlights the need for personalized treatment durations based on individual patient risk profiles, addressing the balance between reducing ischemic events and minimizing bleeding risks.\\\",\\n        \\\"related paper 2\\\": \\\"This paper explores the perioperative challenges of managing patients with drug-eluting stents, particularly in the context of organ transplantation. It builds on the previous discussions by emphasizing the complexity of balancing antiplatelet therapy with surgical needs, highlighting the role of newer stent technologies and antiplatelet agents.\\\",\\n        \\\"related paper 3\\\": \\\"This paper introduces the use of cangrelor, a short-acting P2Y12 inhibitor, in maintaining drug-eluting stent patency during complex clinical scenarios such as massive pulmonary hemorrhage and extracorporeal membrane oxygenation. It builds on the previous papers by offering a potential solution for managing antiplatelet therapy in high-risk situations.\\\",\\n        \\\"related paper 4\\\": \\\"This paper further explores the use of cangrelor as a bridging therapy in patients with recent drug-eluting stents who require urgent surgery. It builds on the previous findings by demonstrating the practical application of cangrelor in reducing adverse events during perioperative periods.\\\",\\n        \\\"related paper 5\\\": \\\"This paper provides a cohort study and narrative review of cangrelor bridging in patients undergoing invasive procedures. It consolidates previous findings by evaluating the safety and effectiveness of cangrelor, offering insights into its role as an alternative to oral P2Y12 inhibitors in urgent surgical settings.\\\"\\n    \",\n",
      "    \"Rationale\": \"The progression of research from the source paper to the related papers highlights the evolving understanding of dual antiplatelet therapy (DAPT) in patients with acute coronary syndromes and drug-eluting stents. While the source paper established the efficacy of clopidogrel in addition to aspirin, subsequent studies have focused on optimizing DAPT duration, addressing perioperative challenges, and introducing new antiplatelet agents like cangrelor. Despite these advancements, there remains a need for personalized treatment strategies that consider individual patient risks and clinical scenarios. Building on this foundation, a research idea that investigates the integration of genetic and clinical risk factors to tailor DAPT duration could provide significant advancements in personalized medicine.\",\n",
      "    \"Research idea\": \"The research problem involves developing a personalized approach to dual antiplatelet therapy (DAPT) duration in patients with acute coronary syndromes and drug-eluting stents. The study will integrate genetic markers (such as CYP2C19 polymorphisms) and clinical risk factors (e.g., history of bleeding, ischemic events) to create a predictive model for optimal DAPT duration. The population will include patients with recent drug-eluting stent implantation. The intervention will involve tailoring DAPT duration based on the predictive model, while the control group will follow standard DAPT guidelines. The primary outcome will be the incidence of major adverse cardiovascular events (MACE), and secondary outcomes will include bleeding complications. Outcomes will be measured using clinical follow-up and genetic testing.\",\n",
      "    \"Hypothesis\": \"Tailoring dual antiplatelet therapy duration based on genetic and clinical risk factors reduces the incidence of major adverse cardiovascular events and bleeding complications compared to standard DAPT duration in patients with drug-eluting stents.\"\n",
      "  },\n",
      "  \"gpt4_scores\": {\n",
      "    \"clarity\": 4.0,\n",
      "    \"relevance\": 4.0,\n",
      "    \"originality\": 3.0,\n",
      "    \"feasibility\": 3.6666666666666665,\n",
      "    \"significance\": 4.0\n",
      "  },\n",
      "  \"gpt4_novelty\": \"    {\\n    \\\"Thoughts\\\": \\\"The proposed research idea focuses on tailoring dual antiplatelet therapy (DAPT) duration based on genetic and clinical risk factors to reduce major adverse cardiovascular events and bleeding complications in patients with drug-eluting stents. The abstracts provided primarily focus on comparing different durations of DAPT and their outcomes, without specific emphasis on genetic and clinical risk factors as determinants for tailoring therapy duration. Abstracts 1, 2, 3, 4, 5, and 6 discuss various DAPT durations and their effects on clinical outcomes, but none explicitly mention the use of genetic and clinical risk factors for tailoring therapy. This suggests that the proposed idea has a novel aspect in incorporating personalized medicine approaches to DAPT duration.\\\",\\n    \\\"Overlap\\\": [\\n        \\\"little to no overlap\\\",\\n        \\\"little to no overlap\\\",\\n        \\\"little to no overlap\\\",\\n        \\\"little to no overlap\\\",\\n        \\\"little to no overlap\\\",\\n        \\\"little to no overlap\\\"\\n    ],\\n    \\\"Novelty score\\\": \\\"novel\\\"\\n}\",\n",
      "  \"hyper_generated_idea\": {\n",
      "    \"Analysis\": \"\\\"0\\\": \\\"The DAPT study (HR=0.80; 95% CI, 0.72 to 0.90; P<0.001) report a significant reduction in non-stent thrombosis-related myocardial infarction. This is true secondary prevention.\\\",\\n\\\"1\\\": \\\"Patients undergoing transplant surgery soon after the placement of DES are at increased risk of stent thrombosis. The type of stent and timing of transplant surgery can be of utmost importance.\\\",\\n\\\"2\\\": \\\"This article describes in detail the various perioperative challenges encountered in organ transplantation surgery and patients with drug eluting stents.\\\",\\n\\\"3\\\": \\\"Cangrelor therapy, with its downregulation of platelet activation and aggregation, was initiated at one-half the recommended percutaneous coronary intervention dosing (2 mcg/kg/min) and maintained patency during central venoarterial extracorporeal membrane oxygenation.\\\",\\n\\\"4\\\": \\\"This is the first case report to demonstrate the safe and effective use of cangrelor as a bridge to left ventricular assist device implantation in a patient with a recently implanted drug\\u2010eluting coronary artery stent who developed acute thrombocytopenia following reexposure to tirofiban, a glycoprotein IIb/IIIa inhibitor.\\\",\\n\\\"5\\\": \\\"A narrative review was also performed to summarize cangrelor bridging for noncardiac invasive procedures.\\\"\",\n",
      "    \"Rationale\": \"The existing literature provides a comprehensive understanding of the effects of clopidogrel in addition to aspirin for patients with acute coronary syndromes without ST-segment elevation, as well as the challenges and considerations for patients with drug-eluting stents undergoing urgent surgical procedures. The studies collectively highlight the benefits of dual antiplatelet therapy and the need for alternative bridging strategies in specific patient populations. However, there is a need for further research to optimize the duration of dual antiplatelet therapy, identify patient subgroups that may benefit from longer or shorter DAPT, and evaluate the safety and effectiveness of cangrelor bridging in various clinical scenarios. Additionally, there is a need to investigate the long-term outcomes and potential risks associated with different DAPT durations and bridging strategies.\",\n",
      "    \"Research idea\": \"To determine the optimal duration of dual antiplatelet therapy (DAPT) in patients with drug-eluting stents (DES) undergoing urgent surgical procedures, and to assess the safety and effectiveness of cangrelor bridging as an alternative to oral P2Y12 inhibitors in these patients. This research will address the limitations of previous studies by focusing on specific patient populations and clinical scenarios, and by evaluating the impact of DAPT duration and bridging strategies on perioperative bleeding risk, ischemic events, and stent thrombosis. The study will also explore the feasibility and safety of using cangrelor bridging in patients with complex medical conditions such as pulmonary hemorrhage and venoarterial extracorporeal membrane oxygenation. The findings will have the potential to inform clinical guidelines and improve patient outcomes.\",\n",
      "    \"Hypothesis\": \"In patients with drug-eluting stents undergoing urgent surgical procedures, a DAPT duration of 6 months, combined with cangrelor bridging, will result in a lower incidence of perioperative ischemic events and major bleeding compared to a shorter DAPT duration or oral P2Y12 inhibitors alone. This will be measured using the primary endpoint of the composite outcome of death from cardiovascular causes, nonfatal myocardial infarction, or stroke, and secondary endpoints such as major bleeding events, nonfatal stroke, myocardial infarction, mortality, and unplanned revascularization within 30 days. The feasibility of cangrelor bridging will be assessed based on the number of patients who can tolerate the infusion and the need for platelet transfusion during the perioperative period. The study will also include a narrative review of the current literature on cangrelor bridging for noncardiac invasive procedures.\"\n",
      "  },\n",
      "  \"hyper_scores\": {\n",
      "    \"clarity\": 4.0,\n",
      "    \"relevance\": 4.0,\n",
      "    \"originality\": 3.0,\n",
      "    \"feasibility\": 3.0,\n",
      "    \"significance\": 4.0\n",
      "  },\n",
      "  \"hyper_novelty\": \"    {\\n    \\\"Thoughts\\\": [\\n        \\\"The first abstract discusses the challenges of managing patients with drug-eluting stents undergoing organ transplantation, including the use of cangrelor as a bridging antiplatelet drug. While it mentions cangrelor, the focus is on organ transplantation rather than urgent surgical procedures in general.\\\",\\n        \\\"The second abstract is about the BRIDGE study, which evaluated cangrelor as a bridge to coronary artery bypass graft surgery. It highlights the potential for cangrelor in non-coronary procedures but does not specifically address the context of urgent surgeries post-drug-eluting stent placement.\\\",\\n        \\\"The third abstract presents a case report of using cangrelor for bridging in a patient with a drug-eluting stent undergoing emergency cervical spine surgery. This is closely related to the research idea, as it involves the use of cangrelor in a similar clinical scenario.\\\",\\n        \\\"The fourth abstract discusses the use of glycoprotein IIb/IIIa inhibitors for bridging in patients with drug-eluting stents undergoing surgery. Although it involves a bridging strategy, it does not focus on cangrelor or the specific endpoints proposed in the research idea.\\\",\\n        \\\"The fifth abstract reviews the incidence of non-cardiac death in patients with drug-eluting stents. It does not address the use of cangrelor or perioperative management, so it has little overlap with the research idea.\\\"\\n    ],\\n    \\\"Overlap\\\": [\\n        \\\"little to no overlap\\\",\\n        \\\"little to no overlap\\\",\\n        \\\"overlap\\\",\\n        \\\"little to no overlap\\\",\\n        \\\"little to no overlap\\\"\\n    ],\\n    \\\"Novelty score\\\": \\\"novel\\\"\\n}\"\n",
      "}\n"
     ]
    }
   ],
   "source": [
    "matched_items = []\n",
    "\n",
    "for item1 in data2:\n",
    "    file_name = item1[\"metadata\"].get(\"file_name\")\n",
    "    chain_label = item1[\"metadata\"].get(\"chain_label\")\n",
    "    \n",
    "    if chain_label != \"valid\":\n",
    "        continue \n",
    "\n",
    "    item2 = file_name_lookup_data1.get(file_name)\n",
    "    if item2:\n",
    "        matched_items.append({\n",
    "            \"file_name\": file_name,\n",
    "            \"gpt4_generated_idea\": item2.get(\"generated_research_idea\"),\n",
    "            \"gpt4_scores\": item2.get(\"scores\"),\n",
    "            \"gpt4_novelty\": item2.get(\"novelty_analysis\").get(\"novelty_result\"),\n",
    "            \"hyper_generated_idea\": item1.get(\"generated_research_idea\"),\n",
    "            \"hyper_scores\": item1.get(\"scores\"),\n",
    "            \"hyper_novelty\": item1.get(\"novelty_analysis\").get(\"novelty_result\")\n",
    "        })\n",
    "\n",
    "print(len(matched_items))\n",
    "# Example output\n",
    "if matched_items:\n",
    "    print(json.dumps(matched_items[0], indent=2))\n",
    "else:\n",
    "    print(\"No valid matched items found.\")\n"
   ]
  },
  {
   "cell_type": "code",
   "execution_count": 28,
   "metadata": {},
   "outputs": [
    {
     "name": "stdout",
     "output_type": "stream",
     "text": [
      "   Dimension  GPT-4 Score  HypER Score\n",
      "     Clarity         4.00         3.35\n",
      "   Relevance         3.96         3.35\n",
      " Originality         3.00         3.01\n",
      " Feasibility         3.53         3.15\n",
      "Significance         3.84         3.37\n"
     ]
    }
   ],
   "source": [
    "from collections import defaultdict\n",
    "\n",
    "# Initialize score accumulators and counters\n",
    "gpt4_totals = defaultdict(float)\n",
    "hyper_totals = defaultdict(float)\n",
    "gpt4_count = 0\n",
    "hyper_count = 0\n",
    "\n",
    "# Dimensions to evaluate\n",
    "dimensions = [\"clarity\", \"relevance\", \"originality\", \"feasibility\", \"significance\"]\n",
    "\n",
    "# Aggregate scores\n",
    "for match in matched_items:\n",
    "    gpt4_scores = match.get(\"gpt4_scores\", {})\n",
    "    hyper_scores = match.get(\"hyper_scores\", {})\n",
    "\n",
    "    for dim in dimensions:\n",
    "        if dim in gpt4_scores:\n",
    "            gpt4_totals[dim] += gpt4_scores[dim]\n",
    "        if dim in hyper_scores:\n",
    "            hyper_totals[dim] += hyper_scores[dim]\n",
    "\n",
    "    if gpt4_scores:\n",
    "        gpt4_count += 1\n",
    "    if hyper_scores:\n",
    "        hyper_count += 1\n",
    "\n",
    "# Compute averages\n",
    "comparison_table = []\n",
    "for dim in dimensions:\n",
    "    gpt4_avg = round(gpt4_totals[dim] / gpt4_count, 2) if gpt4_count else None\n",
    "    hyper_avg = round(hyper_totals[dim] / hyper_count, 2) if hyper_count else None\n",
    "    comparison_table.append({\n",
    "        \"Dimension\": dim.capitalize(),\n",
    "        \"GPT-4 Score\": gpt4_avg,\n",
    "        \"HypER Score\": hyper_avg,\n",
    "    })\n",
    "\n",
    "# Print as a table-like format\n",
    "import pandas as pd\n",
    "df = pd.DataFrame(comparison_table)\n",
    "print(df.to_string(index=False))\n"
   ]
  },
  {
   "cell_type": "code",
   "execution_count": 30,
   "metadata": {},
   "outputs": [
    {
     "name": "stdout",
     "output_type": "stream",
     "text": [
      "\n",
      "--- Novelty Score Analysis ---\n",
      "Total matched items: 31\n",
      "Agreement count: 13\n",
      "Agreement %: 41.94%\n",
      "\n",
      "GPT-4 Novelty Distribution: {'novel': 19, 'not novel': 12}\n",
      "HypER Novelty Distribution: {'novel': 18, 'not novel': 12, 'unknown': 1}\n",
      "\n",
      "--- Precision/Recall (GPT-4 'novel' as ground truth) ---\n",
      "Precision: 0.56\n",
      "Recall: 0.53\n",
      "F1 Score: 0.54\n"
     ]
    }
   ],
   "source": [
    "import json\n",
    "from collections import Counter\n",
    "\n",
    "# Load novelty scores\n",
    "def extract_novelty_score(novelty_str):\n",
    "    try:\n",
    "        parsed = json.loads(novelty_str.strip())\n",
    "        return parsed.get(\"Novelty score\", \"\").strip().lower()\n",
    "    except Exception as e:\n",
    "        return None\n",
    "\n",
    "# Initialize\n",
    "score_pairs = []\n",
    "gpt4_counts = Counter()\n",
    "hyper_counts = Counter()\n",
    "agreement = 0\n",
    "\n",
    "# Assume matched_items is already loaded\n",
    "for item in matched_items:\n",
    "    gpt4_score = extract_novelty_score(item.get(\"gpt4_novelty\", \"\"))\n",
    "    hyper_score = extract_novelty_score(item.get(\"hyper_novelty\", \"\"))\n",
    "\n",
    "    if gpt4_score and hyper_score:\n",
    "        score_pairs.append((gpt4_score, hyper_score))\n",
    "        gpt4_counts[gpt4_score] += 1\n",
    "        hyper_counts[hyper_score] += 1\n",
    "        if gpt4_score == hyper_score:\n",
    "            agreement += 1\n",
    "\n",
    "total = len(score_pairs)\n",
    "\n",
    "# Agreement %\n",
    "agreement_percent = (agreement / total) * 100 if total else 0\n",
    "\n",
    "# Precision/Recall-style Metrics (treat GPT-4 \"novel\" as ground truth)\n",
    "tp = sum(1 for g, h in score_pairs if g == \"novel\" and h == \"novel\")\n",
    "fp = sum(1 for g, h in score_pairs if g != \"novel\" and h == \"novel\")\n",
    "fn = sum(1 for g, h in score_pairs if g == \"novel\" and h != \"novel\")\n",
    "\n",
    "precision = tp / (tp + fp) if (tp + fp) > 0 else 0\n",
    "recall = tp / (tp + fn) if (tp + fn) > 0 else 0\n",
    "f1 = 2 * (precision * recall) / (precision + recall) if (precision + recall) > 0 else 0\n",
    "\n",
    "# Output\n",
    "print(\"\\n--- Novelty Score Analysis ---\")\n",
    "print(f\"Total matched items: {total}\")\n",
    "print(f\"Agreement count: {agreement}\")\n",
    "print(f\"Agreement %: {agreement_percent:.2f}%\\n\")\n",
    "\n",
    "print(\"GPT-4 Novelty Distribution:\", dict(gpt4_counts))\n",
    "print(\"HypER Novelty Distribution:\", dict(hyper_counts))\n",
    "\n",
    "print(\"\\n--- Precision/Recall (GPT-4 'novel' as ground truth) ---\")\n",
    "print(f\"Precision: {precision:.2f}\")\n",
    "print(f\"Recall: {recall:.2f}\")\n",
    "print(f\"F1 Score: {f1:.2f}\")\n"
   ]
  }
 ],
 "metadata": {
  "kernelspec": {
   "display_name": "scigen",
   "language": "python",
   "name": "python3"
  },
  "language_info": {
   "codemirror_mode": {
    "name": "ipython",
    "version": 3
   },
   "file_extension": ".py",
   "mimetype": "text/x-python",
   "name": "python",
   "nbconvert_exporter": "python",
   "pygments_lexer": "ipython3",
   "version": "3.8.18"
  }
 },
 "nbformat": 4,
 "nbformat_minor": 2
}
